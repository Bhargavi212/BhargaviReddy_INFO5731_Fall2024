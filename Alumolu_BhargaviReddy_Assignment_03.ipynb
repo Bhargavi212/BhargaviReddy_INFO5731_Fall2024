{
  "cells": [
    {
      "cell_type": "markdown",
      "metadata": {
        "id": "Ryk8D1Q4Wsrp"
      },
      "source": [
        "# **INFO5731 Assignment 3**\n",
        "\n",
        "In this assignment, we will delve into various aspects of natural language processing (NLP) and text analysis. The tasks are designed to deepen your understanding of key NLP concepts and techniques, as well as to provide hands-on experience with practical applications.\n",
        "\n",
        "Through these tasks, you'll gain practical experience in NLP techniques such as N-gram analysis, TF-IDF, word embedding model creation, and sentiment analysis dataset creation.\n",
        "\n",
        "**Expectations**:\n",
        "*   Use the provided .*ipynb* document to write your code & respond to the questions. Avoid generating a new file.\n",
        "*   Write complete answers and run all the cells before submission.\n",
        "*   Make sure the submission is \"clean\"; *i.e.*, no unnecessary code cells.\n",
        "*   Once finished, allow shared rights from top right corner (*see Canvas for details*).\n",
        "\n",
        "\n",
        "**Total points**: 100\n",
        "\n",
        "**Deadline**: See Canvas\n",
        "\n",
        "**Late Submission will have a penalty of 10% reduction for each day after the deadline.**\n"
      ]
    },
    {
      "cell_type": "markdown",
      "metadata": {
        "id": "JkzR8cFAyGik"
      },
      "source": [
        "## Question 1 (30 points)\n",
        "\n",
        "**Understand N-gram**\n",
        "\n",
        "Write a python program to conduct N-gram analysis based on the dataset in your assignment two. You need to write codes from scratch instead of using any pre-existing libraries to do so:\n",
        "\n",
        "(1) Count the frequency of all the N-grams (N=3).\n",
        "\n",
        "(2) Calculate the probabilities for all the bigrams in the dataset by using the fomular count(w2 w1) / count(w2). For example, count(really like) / count(really) = 1 / 3 = 0.33.\n",
        "\n",
        "(3) Extract all the noun phrases and calculate the relative probabilities of each review in terms of other reviews (abstracts, or tweets) by using the fomular frequency (noun phrase) / max frequency (noun phrase) on the whole dataset. Print out the result in a table with column name the all the noun phrases and row name as all the 100 reviews (abstracts, or tweets)."
      ]
    },
    {
      "cell_type": "code",
      "execution_count": null,
      "metadata": {
        "id": "9v8IikDpqrxn",
        "colab": {
          "base_uri": "https://localhost:8080/"
        },
        "outputId": "b2092011-3d4c-4260-c7a4-274e9106a069"
      },
      "outputs": [
        {
          "output_type": "stream",
          "name": "stdout",
          "text": [
            "Top Trigrams: [('of the flower', 521), ('the flower moon', 516), ('killers of the', 506), ('robert de niro', 236), ('of the osage', 218)]\n",
            "Top Bigram Probabilities: [('07 10', 1.0), ('belonging to', 1.0), ('acquisition of', 1.0), ('interlopers is', 1.0), ('occupation of', 1.0)]\n",
            "Relative Probabilities Table (First 100 Rows):\n",
            "         Review       i m     not a  die hard  martin scorsese     fan i  \\\n",
            "0     Review 1  0.001647  0.000824  0.000824         0.000824  0.000824   \n",
            "1     Review 2  0.000824  0.000000  0.000000         0.001647  0.000000   \n",
            "2     Review 3  0.000000  0.000000  0.000000         0.000000  0.000000   \n",
            "3     Review 4  0.000000  0.000000  0.000000         0.000000  0.000000   \n",
            "4     Review 5  0.000000  0.000000  0.000000         0.000000  0.000000   \n",
            "..         ...       ...       ...       ...              ...       ...   \n",
            "95   Review 96  0.000000  0.000824  0.000000         0.000000  0.000000   \n",
            "96   Review 97  0.000000  0.000000  0.000000         0.000000  0.000000   \n",
            "97   Review 98  0.000000  0.000000  0.000000         0.000000  0.000000   \n",
            "98   Review 99  0.000000  0.000000  0.000000         0.000824  0.000000   \n",
            "99  Review 100  0.000000  0.000000  0.000000         0.000000  0.000000   \n",
            "\n",
            "      have a  deep appreciation  for some    of his  ...  an attempt  \\\n",
            "0   0.001647           0.000824  0.000824  0.000824  ...         0.0   \n",
            "1   0.000000           0.000000  0.000000  0.000000  ...         0.0   \n",
            "2   0.000000           0.000000  0.000000  0.000000  ...         0.0   \n",
            "3   0.000000           0.000000  0.000000  0.000000  ...         0.0   \n",
            "4   0.000000           0.000000  0.000824  0.000000  ...         0.0   \n",
            "..       ...                ...       ...       ...  ...         ...   \n",
            "95  0.000000           0.000000  0.000000  0.000000  ...         0.0   \n",
            "96  0.000000           0.000000  0.000000  0.000000  ...         0.0   \n",
            "97  0.000000           0.000000  0.000000  0.000000  ...         0.0   \n",
            "98  0.000824           0.000000  0.000000  0.000000  ...         0.0   \n",
            "99  0.000000           0.000000  0.000000  0.000000  ...         0.0   \n",
            "\n",
            "    to touch  burdensome and  theater additionally  every hour  cumbersome if  \\\n",
            "0        0.0             0.0                   0.0         0.0            0.0   \n",
            "1        0.0             0.0                   0.0         0.0            0.0   \n",
            "2        0.0             0.0                   0.0         0.0            0.0   \n",
            "3        0.0             0.0                   0.0         0.0            0.0   \n",
            "4        0.0             0.0                   0.0         0.0            0.0   \n",
            "..       ...             ...                   ...         ...            ...   \n",
            "95       0.0             0.0                   0.0         0.0            0.0   \n",
            "96       0.0             0.0                   0.0         0.0            0.0   \n",
            "97       0.0             0.0                   0.0         0.0            0.0   \n",
            "98       0.0             0.0                   0.0         0.0            0.0   \n",
            "99       0.0             0.0                   0.0         0.0            0.0   \n",
            "\n",
            "    substantial content  get annoyed  or watch  the comfort  \n",
            "0                   0.0          0.0       0.0          0.0  \n",
            "1                   0.0          0.0       0.0          0.0  \n",
            "2                   0.0          0.0       0.0          0.0  \n",
            "3                   0.0          0.0       0.0          0.0  \n",
            "4                   0.0          0.0       0.0          0.0  \n",
            "..                  ...          ...       ...          ...  \n",
            "95                  0.0          0.0       0.0          0.0  \n",
            "96                  0.0          0.0       0.0          0.0  \n",
            "97                  0.0          0.0       0.0          0.0  \n",
            "98                  0.0          0.0       0.0          0.0  \n",
            "99                  0.0          0.0       0.0          0.0  \n",
            "\n",
            "[100 rows x 59376 columns]\n"
          ]
        }
      ],
      "source": [
        "import pandas as pd\n",
        "import re\n",
        "from collections import defaultdict\n",
        "import os\n",
        "\n",
        "# Define the path to the review dataset\n",
        "file_path = 'combined_imdb_reviews_cleaned.csv'\n",
        "\n",
        "# Ensure the file exists and has content\n",
        "if not os.path.exists(file_path):\n",
        "    raise FileNotFoundError(f\"The file '{file_path}' was not found.\")\n",
        "elif os.path.getsize(file_path) == 0:\n",
        "    raise ValueError(f\"The file '{file_path}' is empty.\")\n",
        "\n",
        "# Attempt to read the dataset one row at a time\n",
        "try:\n",
        "    reviews_df = pd.read_csv(file_path, chunksize=1)\n",
        "except pd.errors.EmptyDataError:\n",
        "    raise ValueError(\"No data could be parsed from the file.\")\n",
        "\n",
        "# Helper function to break down text into individual words\n",
        "def tokenize(text):\n",
        "    return re.findall(r'\\b\\w+\\b', text.lower())\n",
        "\n",
        "# Generate N-grams for text, with N=3 for trigrams\n",
        "def generate_ngrams(text, n=3):\n",
        "    words = tokenize(text)\n",
        "    ngrams = zip(*[words[i:] for i in range(n)])\n",
        "    return [\" \".join(ngram) for ngram in ngrams]\n",
        "\n",
        "# Set up counters for different types of text data\n",
        "trigram_counter = defaultdict(int)\n",
        "bigram_counter = defaultdict(int)\n",
        "unigram_counter = defaultdict(int)\n",
        "review_noun_phrases = []\n",
        "noun_phrase_counter = defaultdict(int)\n",
        "\n",
        "# Analyze each review in the dataset\n",
        "for chunk in reviews_df:  # Process one review at a time\n",
        "    review_text = chunk.iloc[0]['Review']\n",
        "\n",
        "    # Count the frequency of trigrams\n",
        "    trigrams = generate_ngrams(review_text, n=3)\n",
        "    for trigram in trigrams:\n",
        "        trigram_counter[trigram] += 1\n",
        "\n",
        "    # Count the frequency of bigrams and unigrams\n",
        "    words = tokenize(review_text)\n",
        "    bigrams = [\" \".join([words[i], words[i + 1]]) for i in range(len(words) - 1)]\n",
        "    for word in words:\n",
        "        unigram_counter[word] += 1\n",
        "    for bigram in bigrams:\n",
        "        bigram_counter[bigram] += 1\n",
        "\n",
        "    # Extract noun phrases\n",
        "    def extract_noun_phrases(text):\n",
        "        words = tokenize(text)\n",
        "        noun_phrases = []\n",
        "        i = 0\n",
        "        while i < len(words) - 1:\n",
        "            if words[i].isalpha() and words[i + 1].isalpha():\n",
        "                noun_phrases.append(f\"{words[i]} {words[i + 1]}\")\n",
        "                i += 1\n",
        "            i += 1\n",
        "        return noun_phrases\n",
        "\n",
        "    noun_phrases = extract_noun_phrases(review_text)\n",
        "    review_noun_phrases.append({np: noun_phrases.count(np) for np in noun_phrases})\n",
        "    for np in noun_phrases:\n",
        "        noun_phrase_counter[np] += 1\n",
        "\n",
        "# Sort and display the most frequent trigrams\n",
        "top_trigrams = sorted(trigram_counter.items(), key=lambda x: x[1], reverse=True)[:5]\n",
        "print(\"Top Trigrams:\", top_trigrams)\n",
        "\n",
        "# Calculate probabilities for each bigram\n",
        "bigram_probabilities = {}\n",
        "for bigram, count in bigram_counter.items():\n",
        "    w2 = bigram.split()[0]\n",
        "    prob = count / unigram_counter[w2]\n",
        "    bigram_probabilities[bigram] = prob\n",
        "\n",
        "top_bigram_probs = sorted(bigram_probabilities.items(), key=lambda x: x[1], reverse=True)[:5]\n",
        "print(\"Top Bigram Probabilities:\", top_bigram_probs)\n",
        "\n",
        "# Compute relative frequencies for noun phrases\n",
        "max_noun_phrase_freq = max(noun_phrase_counter.values())\n",
        "relative_probabilities = []\n",
        "\n",
        "for i, review_phrases in enumerate(review_noun_phrases):\n",
        "    row = {\"Review\": f\"Review {i+1}\"}\n",
        "    for noun_phrase, count in review_phrases.items():\n",
        "        relative_prob = count / max_noun_phrase_freq\n",
        "        row[noun_phrase] = relative_prob\n",
        "    relative_probabilities.append(row)\n",
        "\n",
        "# Create a DataFrame to store and display the relative noun phrase probabilities for the first 100 reviews\n",
        "relative_prob_df = pd.DataFrame(relative_probabilities).fillna(0)\n",
        "print(\"Relative Probabilities Table (First 100 Rows):\\n\", relative_prob_df.head(100))\n",
        "\n",
        "\n"
      ]
    },
    {
      "cell_type": "markdown",
      "metadata": {
        "id": "90_NR8c5XGWc"
      },
      "source": [
        "## Question 2 (25 points)\n",
        "\n",
        "**Undersand TF-IDF and Document representation**\n",
        "\n",
        "Starting from the documents (all the reviews, or abstracts, or tweets) collected for assignment two, write a python program:\n",
        "\n",
        "(1) To build the documents-terms weights (tf * idf) matrix.\n",
        "\n",
        "(2) To rank the documents with respect to query (design a query by yourself, for example, \"An Outstanding movie with a haunting performance and best character development\") by using cosine similarity.\n",
        "\n",
        "Note: You need to write codes from scratch instead of using any pre-existing libraries to do so."
      ]
    },
    {
      "cell_type": "code",
      "execution_count": null,
      "metadata": {
        "id": "LjN0iysvo9-n",
        "colab": {
          "base_uri": "https://localhost:8080/"
        },
        "outputId": "76b55b0e-7d06-4faf-c23c-2435e585a3ce"
      },
      "outputs": [
        {
          "output_type": "stream",
          "name": "stdout",
          "text": [
            "Top Ranked Documents:\n",
            "Document 694 (Score: 0.15036841277187962): A World War I veteran returns to the Osage Nation, where his uncle lives. He falls in love with an Osage woman while a series of killings of wealthy Osage is taking place, and her family may be next.The movie does a surprisingly good job being interesting and keeping the audience's curiosity given its length of three and a half hours. The cast is remarkable, with household names like Leonardo Dicaprio and Robert Deniro. Dicaprio is outstanding as always. The character development of Ernest Burkhart is worth seeing.Though enjoyable and entertaining for the most part, it is a simple and straightforward movie that offers little to nothing that hasn't already been seen on the big screen.\n",
            "Document 879 (Score: 0.14429105817478283): Outstanding Performance and depiction of the inherent greed and evil of white men who have preyed on every indigenous population in the world. I would love to see more films based on the history of their exploits.Outstanding Performance and depiction of the inherent greed and evil of white men who have preyed on every indigenous population in the world. I would love to see more films based on the history of their exploits.Outstanding Performance and depiction of the inherent greed and evil of white men who have preyed on every indigenous population in the world. I would love to see more films based on the history of their exploits.\n",
            "Document 699 (Score: 0.12536997979383824): \"Killers of the Flower Moon\" is a riveting film that sheds light on a haunting true story. Martin Scorsese's direction is masterful, capturing the essence of the era and delivering a visually stunning experience. The performances by Leonardo DiCaprio and Robert De Niro are exceptional, showcasing their immense talent and dedication.The film's narrative is compelling, delving into the shocking events surrounding the Osage Indian murders and the subsequent FBI investigation. It skillfully navigates the complexities of racism, corruption, and the struggle for justice. The screenplay is well-crafted, effectively building tension and keeping the audience engaged.Visually, \"Killers of the Flower Moon\" is a spectacle. The cinematography is breathtaking, capturing the beauty of the landscapes and the eerie atmosphere of the crimes. The production design and costumes transport viewers to the 1920s, immersing them in the time period with meticulous attention to detail.However, the film does have a few shortcomings. At times, the pacing feels uneven, with certain scenes dragging on or lacking necessary development. Additionally, the sheer magnitude of the story and the large ensemble cast may leave some characters feeling underdeveloped or overshadowed.Despite these minor flaws, \"Killers of the Flower Moon\" remains a powerful and thought-provoking film. It examines a dark chapter of American history, highlighting the resilience of the Osage people and the fight against systemic injustice. Scorsese's direction, coupled with outstanding performances and stunning visuals, make it a must-watch for movie lovers and history buffs alike.\n",
            "Document 794 (Score: 0.12397814537173425): I just hate the fact that they just give you the plot of the whole movie in the first 15 minutes and then you have to watch 3 more hours of what you already know.Lilly Gladstone just giver the best performance and makes even leo dicaprio looking like a amateur actor.But it feels they don't know what to do with Mollie character, sometimes she feels so smart and then sometimes she feels so naive and it feels like the script doesn't give her the credit that she is, if wasn't for lilly Gladstone outstanding acting, her character would look very flat and stupid, and even that leo dicaprio looks like a side character in his own movie.\n",
            "Document 392 (Score: 0.12152286647107174): Based on David Grann's book, killers Of The Flower Moon captures a tragic history of systematic murder of the Osage people for their oil wealth. Scorsese vividly captures the themes of greed, exploitation and power play in this chilling non fiction story. He also unapologetically displays the culture of the Osage people in their dress, music, funeral and superstitious beliefs. One does not only appreciate the level of callousness and deceitfulness demonstrated by these greedy \"wolves\" but one is also sucked into the culture and life of the Osage people in a way you could imagine it when reading the book. As far as the 3 leading characters are concerned, Leonardo DiCaprio's character as Ernest Burkhart was played to perfection. He was servant in the US army infantry division and came to live with and work for his uncle. However, his inability to reflect deeply on the consequences of orders given to him by his uncle made him a tool that was used in perpetrating the heinous crimes committed by his uncle in order to have the headrights to his wife's family oil wealth. He was also a morally conflicted man who in a way tried to convince and deceive himself that he was doing the right thing by obeying his uncle's orders. Lily Gladstone as Mollie Burkhart was the soul of this story. She symbolizes the irreversible physical and emotional damage the genocide had on families. Her subtle, soulful, haunting and emotionally alluring portrayal of Mollie Burkhart was an outstanding achievement and one for the ages. This is a movie that gets better with each watch and its only when considerable time has passed before cinephiles and film critics will realize how truly outstanding this movie is.\n"
          ]
        }
      ],
      "source": [
        "import pandas as pd\n",
        "import re\n",
        "import math\n",
        "from collections import defaultdict\n",
        "\n",
        "# Load the dataset and handle any potential issues with file access\n",
        "file_path = 'combined_imdb_reviews_cleaned.csv'\n",
        "try:\n",
        "    reviews_df = pd.read_csv(file_path)\n",
        "except FileNotFoundError:\n",
        "    raise FileNotFoundError(\"The specified file was not found.\")\n",
        "except pd.errors.EmptyDataError:\n",
        "    raise ValueError(\"The file is empty or improperly formatted.\")\n",
        "\n",
        "# Function to break down text into individual lowercase words\n",
        "def tokenize(text):\n",
        "    return re.findall(r'\\b\\w+\\b', text.lower())\n",
        "\n",
        "# 1. Calculate Term Frequency (TF) for each document\n",
        "# TF measures the frequency of each word within a document\n",
        "def calculate_tf(documents):\n",
        "    tf_values = []\n",
        "    for doc in documents:\n",
        "        words = tokenize(doc)\n",
        "        word_count = len(words)\n",
        "        tf = defaultdict(float)\n",
        "        for word in words:\n",
        "            tf[word] += 1 / word_count  # Normalized frequency per word in document\n",
        "        tf_values.append(tf)\n",
        "    return tf_values\n",
        "\n",
        "# 2. Calculate Document Frequency (DF) and Inverse Document Frequency (IDF)\n",
        "# DF counts documents containing each word, and IDF measures the importance of each word across all documents\n",
        "def calculate_idf(documents):\n",
        "    df = defaultdict(int)\n",
        "    for doc in documents:\n",
        "        unique_words = set(tokenize(doc))\n",
        "        for word in unique_words:\n",
        "            df[word] += 1\n",
        "\n",
        "    N = len(documents)  # Total number of documents\n",
        "    idf = {word: math.log(N / df_count) for word, df_count in df.items()}\n",
        "    return idf\n",
        "\n",
        "# 3. Construct the TF-IDF Matrix\n",
        "# TF-IDF matrix combines TF and IDF scores for each word in each document\n",
        "def build_tf_idf_matrix(tf_values, idf):\n",
        "    tf_idf_matrix = []\n",
        "    for tf in tf_values:\n",
        "        tf_idf = {word: tf[word] * idf[word] for word in tf}\n",
        "        tf_idf_matrix.append(tf_idf)\n",
        "    return tf_idf_matrix\n",
        "\n",
        "# Extract documents from the dataset\n",
        "documents = reviews_df['Review'].tolist()\n",
        "tf_values = calculate_tf(documents)\n",
        "idf = calculate_idf(documents)\n",
        "tf_idf_matrix = build_tf_idf_matrix(tf_values, idf)\n",
        "\n",
        "# 4. Prepare TF-IDF vector for the query\n",
        "query = \"An Outstanding movie with a haunting performance and best character development\"\n",
        "query_terms = tokenize(query)\n",
        "query_tf = defaultdict(float)\n",
        "for term in query_terms:\n",
        "    query_tf[term] += 1 / len(query_terms)\n",
        "\n",
        "query_tf_idf = {term: query_tf[term] * idf.get(term, 0) for term in query_tf}\n",
        "\n",
        "# 5. Define Cosine Similarity Function to Measure Document-Query Similarity\n",
        "def cosine_similarity(doc_vector, query_vector):\n",
        "    # Dot product between document and query vectors\n",
        "    dot_product = sum(doc_vector.get(term, 0) * query_vector.get(term, 0) for term in query_vector)\n",
        "    # Magnitude calculation for each vector\n",
        "    doc_magnitude = math.sqrt(sum(weight ** 2 for weight in doc_vector.values()))\n",
        "    query_magnitude = math.sqrt(sum(weight ** 2 for weight in query_vector.values()))\n",
        "    if doc_magnitude == 0 or query_magnitude == 0:\n",
        "        return 0\n",
        "    return dot_product / (doc_magnitude * query_magnitude)\n",
        "\n",
        "# Rank documents based on similarity scores with the query\n",
        "document_scores = [(i, cosine_similarity(tf_idf_matrix[i], query_tf_idf)) for i in range(len(tf_idf_matrix))]\n",
        "document_scores = sorted(document_scores, key=lambda x: x[1], reverse=True)\n",
        "\n",
        "# Display the top-ranked documents\n",
        "print(\"Top Ranked Documents:\")\n",
        "for doc_index, score in document_scores[:5]:\n",
        "    print(f\"Document {doc_index + 1} (Score: {score}): {documents[doc_index]}\")"
      ]
    },
    {
      "cell_type": "markdown",
      "metadata": {
        "id": "1F_PZdH9Sh49"
      },
      "source": [
        "## Question 3 (25 points)\n",
        "\n",
        "**Create your own word embedding model**\n",
        "\n",
        "Use the data you collected for assignment 2 to build a word embedding model:\n",
        "\n",
        "(1) Train a 300-dimension word embedding (it can be word2vec, glove, ulmfit, bert, or others).\n",
        "\n",
        "(2) Visualize the word embedding model you created.\n",
        "\n",
        "Reference: https://machinelearningmastery.com/develop-word-embeddings-python-gensim/\n",
        "\n",
        "Reference: https://jaketae.github.io/study/word2vec/"
      ]
    },
    {
      "cell_type": "code",
      "execution_count": null,
      "metadata": {
        "id": "eczZgyAoo05Q",
        "colab": {
          "base_uri": "https://localhost:8080/"
        },
        "outputId": "dcc0d338-d782-4d2a-f74d-0a34499ecbf5"
      },
      "outputs": [
        {
          "output_type": "stream",
          "name": "stdout",
          "text": [
            "Training complete. Model saved as 'word2vec_300d.model'.\n",
            "\n",
            "Total Vocabulary Size: 6963\n",
            "\n",
            "Sample Words from Vocabulary: ['the', 'and', 'of', 'a', 'to', 'it', 'is', 'in', 'i', 'that']\n",
            "\n",
            "Sample Embeddings:\n",
            "Word: the\n",
            "Embedding: [-0.02683227  0.4162001   0.07688829  0.35825843 -0.09893712 -0.6075421\n",
            "  0.5467226   0.66014946 -0.06569495 -0.21953015]...\n",
            "\n",
            "Word: and\n",
            "Embedding: [-0.05793484  0.28215688  0.10173801  0.13160697  0.01433328 -0.29699287\n",
            "  0.16925062  0.6388981   0.13510431 -0.2369023 ]...\n",
            "\n",
            "Word: of\n",
            "Embedding: [ 0.2659088   0.502428    0.06389632 -0.1048359  -0.09031145 -0.08143324\n",
            "  0.2645213   0.41570926 -0.00526107 -0.16531712]...\n",
            "\n",
            "Word: a\n",
            "Embedding: [-0.14590746  0.36224264 -0.15816708  0.36591336 -0.22114918 -0.44674897\n",
            "  0.27917534  0.8738206   0.08425012 -0.22662622]...\n",
            "\n",
            "Word: to\n",
            "Embedding: [ 0.1636139   0.07527624  0.3347015   0.02680219  0.15310481 -0.10981411\n",
            "  0.34434974  0.7505877  -0.15740359 -0.00288261]...\n",
            "\n"
          ]
        }
      ],
      "source": [
        "# Write your code here\n",
        "import pandas as pd\n",
        "import re\n",
        "from gensim.models import Word2Vec\n",
        "\n",
        "# Specify the path to the dataset and read the reviews\n",
        "file_path = 'combined_imdb_reviews_cleaned.csv'\n",
        "try:\n",
        "    reviews_df = pd.read_csv(file_path)\n",
        "except FileNotFoundError:\n",
        "    raise FileNotFoundError(\"The specified file could not be found.\")\n",
        "except pd.errors.EmptyDataError:\n",
        "    raise ValueError(\"The file is empty or improperly formatted.\")\n",
        "\n",
        "# Function to process text by converting to lowercase and splitting into words\n",
        "def preprocess_text(text):\n",
        "    return re.findall(r'\\b\\w+\\b', text.lower())\n",
        "\n",
        "# Tokenize each review to create a list of word sequences\n",
        "tokenized_reviews = [preprocess_text(review) for review in reviews_df['Review'].tolist()]\n",
        "\n",
        "# Set up and train the Word2Vec model with 300-dimensional word embeddings\n",
        "embedding_dim = 300\n",
        "word2vec_model = Word2Vec(sentences=tokenized_reviews, vector_size=embedding_dim, window=5, min_count=2, workers=4)\n",
        "\n",
        "# Save the trained model for later use\n",
        "model_name = \"word2vec_300d.model\"\n",
        "word2vec_model.save(model_name)\n",
        "\n",
        "# Output information about the model and vocabulary\n",
        "print(\"Training complete. Model saved as 'word2vec_300d.model'.\\n\")\n",
        "\n",
        "# Display the total number of unique words in the model's vocabulary\n",
        "print(\"Total Vocabulary Size:\", len(word2vec_model.wv))\n",
        "\n",
        "# Display a sample of words from the vocabulary\n",
        "print(\"\\nSample Words from Vocabulary:\", list(word2vec_model.wv.index_to_key)[:10])\n",
        "\n",
        "# Show embeddings for a few example words\n",
        "sample_words = list(word2vec_model.wv.index_to_key)[:5]  # Display the first 5 words as examples\n",
        "print(\"\\nSample Embeddings:\")\n",
        "for word in sample_words:\n",
        "    print(f\"Word: {word}\")\n",
        "    print(f\"Embedding: {word2vec_model.wv[word][:10]}...\")  # Display the first 10 dimensions for simplicity\n",
        "    print()\n",
        "\n",
        "\n",
        "\n",
        "\n",
        "\n",
        "\n"
      ]
    },
    {
      "cell_type": "code",
      "source": [
        "import matplotlib.pyplot as plt\n",
        "from sklearn.decomposition import PCA\n",
        "from gensim.models import Word2Vec\n",
        "\n",
        "# Load the pre-trained Word2Vec model\n",
        "model_file = \"word2vec_300d.model\"\n",
        "word2vec_model = Word2Vec.load(model_file)\n",
        "\n",
        "# Get the list of words and their associated embeddings\n",
        "vocab_words = list(word2vec_model.wv.index_to_key)  # Words in the model's vocabulary\n",
        "embeddings = word2vec_model.wv[vocab_words]         # Corresponding vectors for each word\n",
        "\n",
        "# Reduce dimensionality from 300 to 2 for visualization\n",
        "pca = PCA(n_components=2)\n",
        "reduced_embeddings = pca.fit_transform(embeddings)\n",
        "\n",
        "# Visualize a subset of the words for better readability\n",
        "plt.figure(figsize=(12, 8))\n",
        "sample_size = 50  # Number of words to display for clarity\n",
        "for i in range(sample_size):\n",
        "    plt.scatter(reduced_embeddings[i, 0], reduced_embeddings[i, 1])\n",
        "    plt.annotate(vocab_words[i], (reduced_embeddings[i, 0], reduced_embeddings[i, 1]))\n",
        "\n",
        "plt.title(\"2D Projection of Word Embeddings Using PCA\")\n",
        "plt.xlabel(\"PCA Component 1\")\n",
        "plt.ylabel(\"PCA Component 2\")\n",
        "plt.show()"
      ],
      "metadata": {
        "id": "7OykoqUnbVbS",
        "outputId": "2dd476a1-660e-432f-dafc-5fd4ba04ad59",
        "colab": {
          "base_uri": "https://localhost:8080/",
          "height": 718
        }
      },
      "execution_count": null,
      "outputs": [
        {
          "output_type": "display_data",
          "data": {
            "text/plain": [
              "<Figure size 1200x800 with 1 Axes>"
            ],
            "image/png": "[encoded data removed]"
          },
          "metadata": {}
        }
      ]
    },
    {
      "cell_type": "markdown",
      "metadata": {
        "id": "DDoVp3aYoU8F"
      },
      "source": [
        "## Question 4 (20 Points)\n",
        "\n",
        "**Create your own training and evaluation data for sentiment analysis.**\n",
        "\n",
        " **You don't need to write program for this question!**\n",
        "\n",
        " For example, if you collected a movie review or a product review data, then you can do the following steps:\n",
        "\n",
        "*   Read each review (abstract or tweet) you collected in detail, and annotate each review with a sentiment (positive, negative, or neutral).\n",
        "\n",
        "*   Save the annotated dataset into a csv file with three columns (first column: document_id, clean_text, sentiment), upload the csv file to GitHub and submit the file link blew.\n",
        "\n",
        "*   This datset will be used for assignment four: sentiment analysis and text classification.\n"
      ]
    },
    {
      "cell_type": "code",
      "execution_count": 20,
      "metadata": {
        "id": "DyK54UY6ompS"
      },
      "outputs": [],
      "source": [
        "# The GitHub link of your final csv file\n",
        "\n",
        "# Link: https://github.com/Bhargavi212/BhargaviReddy_INFO5731_Fall2024/blob/main/annotated_reviews.csv\n",
        "\n"
      ]
    },
    {
      "cell_type": "markdown",
      "metadata": {
        "id": "q8BFCvWp32cf"
      },
      "source": [
        "# Mandatory Question\n",
        "\n",
        "Provide your thoughts on the assignment. What did you find challenging, and what aspects did you enjoy? Your opinion on the provided time to complete the assignment."
      ]
    },
    {
      "cell_type": "code",
      "execution_count": 22,
      "metadata": {
        "id": "sNXlsbrirHRo",
        "colab": {
          "base_uri": "https://localhost:8080/",
          "height": 53
        },
        "outputId": "19d65f81-aa34-4eae-fc98-35aab7010859"
      },
      "outputs": [
        {
          "output_type": "execute_result",
          "data": {
            "text/plain": [
              "'\\nIt is very interesting and I found it interesting while Choosing the Right Hyperparameters in the training of the wordembedding and and while doing the annotation to the text.\\n\\nI enjoyed creating my own dataset for the next assignment and Visualizing the word embedding model that I have created. \\n\\nWe need more time for this kind of assignments.\\n'"
            ],
            "application/vnd.google.colaboratory.intrinsic+json": {
              "type": "string"
            }
          },
          "metadata": {},
          "execution_count": 22
        }
      ],
      "source": [
        "# Type your answer\n",
        "\n",
        "'''\n",
        "It is very interesting and I found it interesting while Choosing the Right Hyperparameters in the training of the wordembedding and and while doing the annotation to the text.\n",
        "\n",
        "I enjoyed creating my own dataset for the next assignment and Visualizing the word embedding model that I have created.\n",
        "\n",
        "We need more time for this kind of assignments.\n",
        "'''"
      ]
    },
    {
      "cell_type": "code",
      "source": [],
      "metadata": {
        "id": "4ZZUmbUUpqED"
      },
      "execution_count": null,
      "outputs": []
    }
  ],
  "metadata": {
    "colab": {
      "provenance": []
    },
    "kernelspec": {
      "display_name": "Python 3 (ipykernel)",
      "language": "python",
      "name": "python3"
    },
    "language_info": {
      "codemirror_mode": {
        "name": "ipython",
        "version": 3
      },
      "file_extension": ".py",
      "mimetype": "text/x-python",
      "name": "python",
      "nbconvert_exporter": "python",
      "pygments_lexer": "ipython3",
      "version": "3.9.12"
    }
  },
  "nbformat": 4,
  "nbformat_minor": 0
}