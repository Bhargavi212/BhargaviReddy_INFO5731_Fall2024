{
  "cells": [
    {
      "cell_type": "markdown",
      "metadata": {
        "id": "DymRJbxDBCnf"
      },
      "source": [
        "# **INFO5731 Exercise 1**\n",
        "\n",
        "This exercise covers a variety of fundamental concepts in Python and is designed to help students improve their coding skills and problem-solving abilities.\n",
        "\n",
        "**Expectations**:\n",
        "*   Students are expected to complete the exercise during lecture period to meet the active participation criteria of the course.\n",
        "*   Use the provided .*ipynb* document to write your code & respond to the questions. Avoid generating a new file.\n",
        "*   Write complete answers and run all the cells before submission.\n",
        "*   Make sure the submission is \"clean\"; *i.e.*, no unnecessary code cells.\n",
        "*   Once finished, allow shared rights from top right corner (*see Canvas for details*).\n",
        "\n",
        "**Total points**: 40\n",
        "\n",
        "**Deadline**: This in-class exercise is due at the end of the day tomorrow, at 11:59 PM.\n",
        "\n",
        "**Late submissions cannot be considered, and no requests will be answered. Manage your time accordingly.**\n"
      ]
    },
    {
      "cell_type": "markdown",
      "source": [
        "## Question 1\n",
        "Write a Python program that  prompts the user to input the length and width of a rectangle, and then calculates and displays the area of the rectangle."
      ],
      "metadata": {
        "id": "FBKvD6O_TY6e"
      }
    },
    {
      "cell_type": "code",
      "source": [
        "# write your answer here\n",
        "a=float(input(\"Enter length: \"))\n",
        "b=float(input(\"Enter width: \"))\n",
        "area= print(\"Area: \",a*b)"
      ],
      "metadata": {
        "id": "cikVKDXdTbzE",
        "colab": {
          "base_uri": "https://localhost:8080/"
        },
        "outputId": "c1816056-0840-46ef-edd9-fe6f2e82e475"
      },
      "execution_count": null,
      "outputs": [
        {
          "output_type": "stream",
          "name": "stdout",
          "text": [
            "Enter length: 2\n",
            "Enter width: 3\n",
            "Area:  6.0\n"
          ]
        }
      ]
    },
    {
      "cell_type": "markdown",
      "source": [
        "## Question 2\n",
        "Create a Python program that interactively takes two numerical inputs from the user and swaps their values without utilizing an extra variable."
      ],
      "metadata": {
        "id": "E9RqrlwdTfvl"
      }
    },
    {
      "cell_type": "code",
      "source": [
        "# write your answer here\n",
        "a= int(input(\"Enter A value: \"))\n",
        "b= int(input(\"Enter B value: \"))\n",
        "a= a+b\n",
        "b= a-b\n",
        "a= a-b\n",
        "print(\" A value:\", a)\n",
        "print(\" B value:\", b)\n"
      ],
      "metadata": {
        "id": "4XvRknixTh1g",
        "colab": {
          "base_uri": "https://localhost:8080/"
        },
        "outputId": "794cf749-b092-4416-fcdd-9f3476bfb81e"
      },
      "execution_count": null,
      "outputs": [
        {
          "output_type": "stream",
          "name": "stdout",
          "text": [
            "Enter A value: 2\n",
            "Enter B value: 3\n",
            " A value: 3\n",
            " B value: 2\n"
          ]
        }
      ]
    },
    {
      "cell_type": "markdown",
      "metadata": {
        "id": "03jb4GZsBkBS"
      },
      "source": [
        "## Question 3\n",
        "Write a Python script to determine and print the length of a user-input string."
      ]
    },
    {
      "cell_type": "code",
      "execution_count": null,
      "metadata": {
        "id": "YaGLbSHHB8Ej",
        "colab": {
          "base_uri": "https://localhost:8080/"
        },
        "outputId": "22e54b8c-5b0c-46e6-8112-7dcccb8bdf74"
      },
      "outputs": [
        {
          "output_type": "stream",
          "name": "stdout",
          "text": [
            " Enter a String: bhargavi\n",
            "Length of string 8\n"
          ]
        }
      ],
      "source": [
        "# write your answer here\n",
        "a= input(\" Enter a String: \")\n",
        "print(\"Length of string\", len(a))\n",
        "\n"
      ]
    },
    {
      "cell_type": "markdown",
      "metadata": {
        "id": "jJDe71iLB616"
      },
      "source": [
        "## Question 4\n",
        "Construct a Python program that counts and displays the occurrences of each character in a given string.\n",
        "\n",
        "Sample String: 'openai.ai',\n",
        "\n",
        "Expected Result: {'a': 2, 'i': 2, '.': 1, 'o': 1, 'p': 1, 'e': 1, 'n': 1}"
      ]
    },
    {
      "cell_type": "code",
      "execution_count": 1,
      "metadata": {
        "id": "MtKskTzbCLaU",
        "colab": {
          "base_uri": "https://localhost:8080/"
        },
        "outputId": "d259e686-5280-4f30-d073-949fbb478097"
      },
      "outputs": [
        {
          "output_type": "stream",
          "name": "stdout",
          "text": [
            "Enter a string: openai.ai\n",
            "{'o': 1, 'p': 1, 'e': 1, 'n': 1, 'a': 2, 'i': 2, '.': 1}\n"
          ]
        }
      ],
      "source": [
        "# write your answer here\n",
        "a= input(\"Enter a string: \")\n",
        "r={}\n",
        "for i in a:\n",
        "    r[i]=r.get(i,0)+1\n",
        "print(r)\n"
      ]
    },
    {
      "cell_type": "markdown",
      "metadata": {
        "id": "55W9AMdXCSpV"
      },
      "source": [
        "## Question 5\n",
        "Design a Python code to calculate the sum of all elements in a user-provided list."
      ]
    },
    {
      "cell_type": "code",
      "execution_count": 4,
      "metadata": {
        "id": "I57NXsauCec2",
        "colab": {
          "base_uri": "https://localhost:8080/"
        },
        "outputId": "265ffc32-4989-417b-d802-5855510b8c38"
      },
      "outputs": [
        {
          "output_type": "stream",
          "name": "stdout",
          "text": [
            "Enter list of numbers separated by space: 1 2 3 4 5\n",
            "Sum of numbers:  15\n"
          ]
        }
      ],
      "source": [
        "# write your answer here\n",
        "x=input(\"Enter list of numbers separated by space: \")\n",
        "y= list(map(int, x.split( )))\n",
        "sum=0\n",
        "for i in y:\n",
        "  sum+=i\n",
        "print(\"Sum of numbers: \",sum)\n"
      ]
    },
    {
      "cell_type": "markdown",
      "metadata": {
        "id": "4ulBZ6yhCi9F"
      },
      "source": [
        "## Question 6\n",
        "Write a Python program that modifies a given string by replacing all occurrences of its first character with '$', excluding the first character itself.\n",
        "\n",
        "\n",
        "Sample String : 'restart‘\n",
        "Expected Result : 'resta\\$t'"
      ]
    },
    {
      "cell_type": "code",
      "execution_count": 6,
      "metadata": {
        "id": "Fj0XhwbBCw2o",
        "colab": {
          "base_uri": "https://localhost:8080/"
        },
        "outputId": "979265ef-ac63-4462-ab42-cc58de20fa6c"
      },
      "outputs": [
        {
          "output_type": "stream",
          "name": "stdout",
          "text": [
            "Enter string: bhargavib\n",
            "bhargavi$\n"
          ]
        }
      ],
      "source": [
        "# write your answer here\n",
        "def replace(s):\n",
        "  f=s[0]\n",
        "  mod=s[0]+s[1:].replace(f,'$')\n",
        "  return mod\n",
        "s=input(\"Enter string: \")\n",
        "mod=replace(s)\n",
        "print(mod)\n"
      ]
    },
    {
      "cell_type": "markdown",
      "source": [
        "## Question 7\n",
        "Write a Python program using a while loop to compute the factorial of a user-supplied number."
      ],
      "metadata": {
        "id": "qVXA3q7ET5JI"
      }
    },
    {
      "cell_type": "code",
      "source": [
        "# write your answer here\n",
        "def fact(x):\n",
        "  if x==0:\n",
        "    return 1\n",
        "  r=1\n",
        "  i=1\n",
        "  while i<=x:\n",
        "    r*=i\n",
        "    i+=1\n",
        "  return r\n",
        "n= int(input(\"Enter a number: \"))\n",
        "result= fact(n)\n",
        "print(\"Factorial: \",result)\n"
      ],
      "metadata": {
        "id": "Lbt7R6UkT7BA",
        "colab": {
          "base_uri": "https://localhost:8080/"
        },
        "outputId": "485a19d5-3dfa-4acb-98fe-ce07d8470c99"
      },
      "execution_count": 7,
      "outputs": [
        {
          "output_type": "stream",
          "name": "stdout",
          "text": [
            "Enter a number: 5\n",
            "Factorial:  120\n"
          ]
        }
      ]
    },
    {
      "cell_type": "markdown",
      "source": [
        "## Question 8\n",
        "Create a program that accepts a list of numbers as input and outputs a new list containing only the even numbers."
      ],
      "metadata": {
        "id": "6YfbzXMNT--R"
      }
    },
    {
      "cell_type": "code",
      "source": [
        "# write your answer here\n",
        "numbers=input(\"Enter numbers seperated by spaces: \")\n",
        "num= list(map(int, numbers.split()))\n",
        "even=[]\n",
        "for i in num:\n",
        "  if i%2 ==0:\n",
        "    even.append(i)\n",
        "print(\"Even numbers: \", even)"
      ],
      "metadata": {
        "id": "54q7wMQPUAKu",
        "colab": {
          "base_uri": "https://localhost:8080/"
        },
        "outputId": "d076f2b7-3dad-4be7-9548-70dbd51e88cf"
      },
      "execution_count": 9,
      "outputs": [
        {
          "output_type": "stream",
          "name": "stdout",
          "text": [
            "Enter numbers seperated by spaces: 2 3 4 5 6 7 8 90 \n",
            "Even numbers:  [2, 4, 6, 8, 90]\n"
          ]
        }
      ]
    },
    {
      "cell_type": "markdown",
      "metadata": {
        "id": "_bIP7s1MCzue"
      },
      "source": [
        "## Question 9\n",
        "Design a Python function to check if a number is prime.\n"
      ]
    },
    {
      "cell_type": "code",
      "execution_count": 14,
      "metadata": {
        "id": "w79QilHXD3Mg",
        "colab": {
          "base_uri": "https://localhost:8080/"
        },
        "outputId": "9331a64c-0d40-4c6d-8c05-eff7a3e25865"
      },
      "outputs": [
        {
          "output_type": "stream",
          "name": "stdout",
          "text": [
            "Enter number: 19\n",
            "19 is a prime number\n"
          ]
        }
      ],
      "source": [
        "# write your answer here\n",
        "def prime(num):\n",
        "  if num<=1:\n",
        "    return False\n",
        "  if num<=3:\n",
        "    return True\n",
        "  if num%2==0 or num%3==0:\n",
        "    return False\n",
        "  i=5\n",
        "  while i*i<=num:\n",
        "    if num%i==0 or num%(i+2)==0:\n",
        "      return False\n",
        "    i+=6\n",
        "  return True\n",
        "n=int(input(\"Enter number: \"))\n",
        "if prime(n):\n",
        "  print(n, \"is a prime number\")\n",
        "else:\n",
        "  print(n,\"is not a prime number\")"
      ]
    },
    {
      "cell_type": "markdown",
      "metadata": {
        "id": "xCa2bK9aD4Q3"
      },
      "source": [
        "## Question 10\n",
        "Write a Python program to concatenate following dictionaries to create a new one.\n",
        "\n",
        "Sample Dictionary : dic1={1:10, 2:20}, dic2={3:30, 4:40}, dic3={5:50,6:60},\n",
        "\n",
        "Expected Result : {1: 10, 2: 20, 3: 30, 4: 40, 5: 50, 6: 60}\n"
      ]
    },
    {
      "cell_type": "code",
      "execution_count": 19,
      "metadata": {
        "id": "_z4aLqAbEET1",
        "colab": {
          "base_uri": "https://localhost:8080/"
        },
        "outputId": "8b50ee39-2682-4f35-a8cf-31b5bde8436e"
      },
      "outputs": [
        {
          "output_type": "stream",
          "name": "stdout",
          "text": [
            "{1: 10, 2: 20, 3: 30, 4: 40, 5: 50, 6: 60}\n"
          ]
        }
      ],
      "source": [
        "# write your answer here\n",
        "def concat(d):\n",
        "  r={}\n",
        "  for i in d:\n",
        "     r.update(i)\n",
        "  return r\n",
        "dic1 = {1: 10, 2: 20}\n",
        "dic2 = {3: 30, 4: 40}\n",
        "dic3 = {5: 50, 6: 60}\n",
        "con=concat([dic1,dic2,dic3])\n",
        "print(con)\n"
      ]
    },
    {
      "cell_type": "markdown",
      "source": [
        "## Question 11\n",
        "Design a Python function that takes a tuple of integers as input and returns the largest and smallest elements."
      ],
      "metadata": {
        "id": "bkyZ2xSZUOst"
      }
    },
    {
      "cell_type": "code",
      "source": [
        "# write your answer here\n",
        "def find(n):\n",
        "  l=n[0]\n",
        "  s=n[0]\n",
        "  for i in n:\n",
        "    if i>l:\n",
        "      l=i\n",
        "    if i<s:\n",
        "      s=i\n",
        "  return l,s\n",
        "number=input(\"Enter numbers separated by spaces: \")\n",
        "num=tuple(map(int,number.split( )))\n",
        "l,s=find(num)\n",
        "print(\"Largest: \", l)\n",
        "print(\"Smallest: \",s)"
      ],
      "metadata": {
        "id": "3FdLRBKOUQEd",
        "colab": {
          "base_uri": "https://localhost:8080/"
        },
        "outputId": "fc68fe8e-d906-42c1-fc86-70c4dd583644"
      },
      "execution_count": 22,
      "outputs": [
        {
          "output_type": "stream",
          "name": "stdout",
          "text": [
            "Enter numbers separated by spaces: 2 3 55 67 1\n",
            "Largest:  67\n",
            "Smallest:  1\n"
          ]
        }
      ]
    },
    {
      "cell_type": "markdown",
      "source": [
        "## Question 12\n",
        "Write a Python program that counts the frequency of each character in a given string and stores it in a dictionary."
      ],
      "metadata": {
        "id": "O0TVi3gKUTpp"
      }
    },
    {
      "cell_type": "code",
      "source": [
        "# write your answer here\n",
        "def count(s):\n",
        "  f={}\n",
        "  for i in s:\n",
        "    if i in f:\n",
        "      f[i]+=1\n",
        "    else:\n",
        "      f[i]=1\n",
        "  return f\n",
        "f=count(input(\"Enter a string: \"))\n",
        "print(\"Character frequency: \",f)\n"
      ],
      "metadata": {
        "id": "lAtfSfZXUU-h",
        "colab": {
          "base_uri": "https://localhost:8080/"
        },
        "outputId": "5b09d030-d043-446f-d964-c77bd3131d5f"
      },
      "execution_count": 23,
      "outputs": [
        {
          "output_type": "stream",
          "name": "stdout",
          "text": [
            "Enter a string: abhargavi\n",
            "Character frequency:  {'a': 3, 'b': 1, 'h': 1, 'r': 1, 'g': 1, 'v': 1, 'i': 1}\n"
          ]
        }
      ]
    },
    {
      "cell_type": "markdown",
      "metadata": {
        "id": "0v48Vqa7FrQh"
      },
      "source": [
        "## Question 13\n",
        "Implement a Python script to identify duplicate elements in a provided array of integers. Return -1 if there are no duplicates."
      ]
    },
    {
      "cell_type": "code",
      "execution_count": 26,
      "metadata": {
        "id": "7WEmgq-DF2P1",
        "colab": {
          "base_uri": "https://localhost:8080/"
        },
        "outputId": "0b82864a-d45c-4bc9-806f-4b9055d43182"
      },
      "outputs": [
        {
          "output_type": "stream",
          "name": "stdout",
          "text": [
            "Enter list seperated by spaces: 2 2 3 \n",
            "Duplicates found\n"
          ]
        }
      ],
      "source": [
        "# write your answer here\n",
        "def find(a):\n",
        "  count=[]\n",
        "  x=set()\n",
        "  for i in a:\n",
        "    if i in x:\n",
        "      count.append(i)\n",
        "    else:\n",
        "      x.add(i)\n",
        "  if count:\n",
        "    return count\n",
        "  else:\n",
        "    return -1\n",
        "\n",
        "number=list(map(int, input(\"Enter list seperated by spaces: \").split( )))\n",
        "count=find(number)\n",
        "if count==-1:\n",
        "  print(\"No duplicates found\")\n",
        "else:\n",
        "  print(\"Duplicates found\")"
      ]
    },
    {
      "cell_type": "markdown",
      "metadata": {
        "id": "vD5PYLMuGga_"
      },
      "source": [
        "## Question 14\n",
        "Write a Python script to find the common elements between two lists."
      ]
    },
    {
      "cell_type": "code",
      "execution_count": 27,
      "metadata": {
        "id": "t0D5kdJUGjjw",
        "colab": {
          "base_uri": "https://localhost:8080/"
        },
        "outputId": "2fee74ed-5285-4a59-9ce8-346e33b0a31c"
      },
      "outputs": [
        {
          "output_type": "stream",
          "name": "stdout",
          "text": [
            "Enter elements for list 1 separated by spaces: 1 2 3 4 5 5\n",
            "Enter elements for list 2 separated by spaces: 2 3 4 \n",
            "Common elements:  [2, 3, 4]\n"
          ]
        }
      ],
      "source": [
        "# write your answer here\n",
        "l1=list(map(int,input(\"Enter elements for list 1 separated by spaces: \").split( )))\n",
        "l2=list(map(int,input(\"Enter elements for list 2 separated by spaces: \").split( )))\n",
        "common=[]\n",
        "for i in l1:\n",
        "  if i in l2:\n",
        "    common.append(i)\n",
        "print(\"Common elements: \",common)\n",
        "\n"
      ]
    },
    {
      "cell_type": "markdown",
      "source": [],
      "metadata": {
        "id": "aN13ISYZUC87"
      }
    },
    {
      "cell_type": "markdown",
      "metadata": {
        "id": "uHkd-y5VhVWC"
      },
      "source": [
        "## Question 15\n",
        "Write a Python program to randomly divide the students in this class into maximum of eight groups for term projects, each group should have at least 4 students but no more than 6 students (including 6).\n",
        "\n",
        "Here is the students list:\n",
        "\n",
        "student_list_spring_2024=[rb0846,\n",
        "ac1964,\n",
        "hc0612,\n",
        "md0912,\n",
        "ad1198,\n",
        "md0894,\n",
        "md0825,\n",
        "vg0598,\n",
        "vg0433,\n",
        "mh1068,\n",
        "yj0173,\n",
        "pk0553,\n",
        "tk0411,\n",
        "srk0204,\n",
        "sk2922,\n",
        "sk2936,\n",
        "mk1302,\n",
        "mk1317,\n",
        "tk0412,\n",
        "vk0656,\n",
        "sm2985,\n",
        "mm2372,\n",
        "un0045,\n",
        "an0892,\n",
        "sn0913,\n",
        "gp0252,\n",
        "ap1484,\n",
        "mr1765,\n",
        "sr1385,\n",
        "sr1335,\n",
        "hs0665,\n",
        "ms2060,\n",
        "gt0217,\n",
        "nt0385,\n",
        "tv0186,\n",
        "sv1394,\n",
        "sv1752,\n",
        "sv1555,\n",
        "sy0594\n",
        "]\n"
      ]
    },
    {
      "cell_type": "code",
      "execution_count": 34,
      "metadata": {
        "id": "3iGbmcOBhTwy",
        "colab": {
          "base_uri": "https://localhost:8080/"
        },
        "outputId": "f65524fc-8e92-4af8-b853-564e4422f54d"
      },
      "outputs": [
        {
          "output_type": "stream",
          "name": "stdout",
          "text": [
            "Group 1:['tk0412', 'mk1302', 'sv1555', 'rb0846', 'sk2922']\n",
            "Group 2:['mr1765', 'hs0665', 'yj0173', 'mk1317', 'un0045', 'sv1394']\n",
            "Group 3:['ap1484', 'md0912', 'pk0553', 'srk0204', 'md0825', 'tk0411']\n",
            "Group 4:['mh1068', 'vg0433', 'gp0252', 'sm2985', 'sy0594', 'gt0217']\n",
            "Group 5:['hc0612', 'md0894', 'tv0186', 'sk2936', 'ad1198', 'mm2372']\n",
            "Group 6:['ac1964', 'vk0656', 'nt0385', 'ms2060', 'vg0598', 'sr1385']\n",
            "Group 7:['sr1335', 'sv1752', 'an0892', 'sn0913']\n"
          ]
        }
      ],
      "source": [
        "import random\n",
        "def pro(stud,maxsize=6,minsize=4):\n",
        "  random.shuffle(stud)\n",
        "  g=[]\n",
        "  cg=[]\n",
        "  for i in stud:\n",
        "    cg.append(i)\n",
        "    if len(cg)==maxsize:\n",
        "      g.append(cg)\n",
        "      cg=[]\n",
        "  if cg:\n",
        "    g.append(cg)\n",
        "  while any(len(j)<minsize for j in g):\n",
        "    sg=min(g, key=len)\n",
        "    lg=max(g,key=len)\n",
        "    sg.append(lg.pop())\n",
        "  return g\n",
        "student_list_spring_2024 = [\n",
        "    \"rb0846\", \"ac1964\", \"hc0612\", \"md0912\", \"ad1198\", \"md0894\", \"md0825\", \"vg0598\",\n",
        "    \"vg0433\", \"mh1068\", \"yj0173\", \"pk0553\", \"tk0411\", \"srk0204\", \"sk2922\", \"sk2936\",\n",
        "    \"mk1302\", \"mk1317\", \"tk0412\", \"vk0656\", \"sm2985\", \"mm2372\", \"un0045\", \"an0892\",\n",
        "    \"sn0913\", \"gp0252\", \"ap1484\", \"mr1765\", \"sr1385\", \"sr1335\", \"hs0665\", \"ms2060\",\n",
        "    \"gt0217\", \"nt0385\", \"tv0186\", \"sv1394\", \"sv1752\", \"sv1555\", \"sy0594\"\n",
        "]\n",
        "g= pro(student_list_spring_2024)\n",
        "for z, j in enumerate(g):\n",
        "  print(f\"Group {z+1}:{j}\")\n"
      ]
    },
    {
      "cell_type": "markdown",
      "metadata": {
        "id": "fmZ9vX20Qs3d"
      },
      "source": [
        "## Question 16\n",
        "Create a program that takes a positive integer 'n' as input and prints the count of even numbers from 1 to 'n'. Optimize the loop using the continue statement."
      ]
    },
    {
      "cell_type": "code",
      "execution_count": 36,
      "metadata": {
        "id": "W8Jw6sWMQs3d",
        "colab": {
          "base_uri": "https://localhost:8080/"
        },
        "outputId": "dc70514c-f13b-46c7-aa3c-82b6fb020b48"
      },
      "outputs": [
        {
          "output_type": "stream",
          "name": "stdout",
          "text": [
            "Enter positive integer: 10\n",
            "The count of even numbers from 1 to 10  is:  5\n"
          ]
        }
      ],
      "source": [
        "# write your answer here\n",
        "def count(n):\n",
        "  c=0\n",
        "  for i in range(1, n+1):\n",
        "    if i%2!=0:\n",
        "      continue\n",
        "    c+=1\n",
        "  return c\n",
        "n= int(input(\"Enter positive integer: \"))\n",
        "print(\"The count of even numbers from 1 to\", n,\" is: \", count(n))"
      ]
    },
    {
      "cell_type": "markdown",
      "metadata": {
        "id": "hvq4APMhQs3d"
      },
      "source": [
        "## Question 17\n",
        "Develop a Python function called 'count_vowels' that takes a string as input and returns the count of vowels (both lowercase and uppercase) present in the string, ignoring spaces and non-alphabetic characters."
      ]
    },
    {
      "cell_type": "code",
      "execution_count": 40,
      "metadata": {
        "id": "ZnoxhSglQs3d",
        "colab": {
          "base_uri": "https://localhost:8080/"
        },
        "outputId": "b275520c-c46f-4fa5-94c3-7a65043cd73b"
      },
      "outputs": [
        {
          "output_type": "stream",
          "name": "stdout",
          "text": [
            "Enter a string: Bhargavi\n",
            "Vowel count:  3\n"
          ]
        }
      ],
      "source": [
        "# write your answer here\n",
        "def count_vowels(s):\n",
        "  vowels=\"aeiouAEIOU\"\n",
        "  c=0\n",
        "  for i in s:\n",
        "    if i.isalpha() and i in vowels:\n",
        "      c+=1\n",
        "  return c\n",
        "print(\"Vowel count: \", count_vowels(input(\"Enter a string: \")))\n"
      ]
    },
    {
      "cell_type": "markdown",
      "source": [
        "## Question 18\n",
        "Create a custom exception named ValueTooSmallError in Python. Write a program that takes user input for an age, and if the entered age is less than 18, raise the ValueTooSmallError with an appropriate error message."
      ],
      "metadata": {
        "id": "55FWoSJPVVM6"
      }
    },
    {
      "cell_type": "code",
      "source": [
        "# write your answer here\n",
        "class ValueTooSmallError(Exception):\n",
        "  def __init__(self, message=\"Value is too small.\"):\n",
        "    super().__init__(message)\n",
        "def check_age(age):\n",
        "  if age<18:\n",
        "    raise ValueTooSmallError(\"Not Eligible!!!! Age is less than 18\")\n",
        "age=int(input(\"Enter age: \"))\n",
        "\n",
        "try:\n",
        "  check_age(age)\n",
        "  print(\"You are eligible.\")\n",
        "except ValueTooSmallError as e:\n",
        "  print(e)\n"
      ],
      "metadata": {
        "id": "hwtr1wZmVX5A",
        "colab": {
          "base_uri": "https://localhost:8080/"
        },
        "outputId": "14e554fd-7570-4d85-8df1-9f29b43eb28e"
      },
      "execution_count": 44,
      "outputs": [
        {
          "output_type": "stream",
          "name": "stdout",
          "text": [
            "Enter age: 1\n",
            "Not Eligible!!!! Age is less than 18\n"
          ]
        }
      ]
    },
    {
      "cell_type": "markdown",
      "source": [
        "## Question 19\n",
        "Develop a script that reverses a given string without using built-in reverse functions."
      ],
      "metadata": {
        "id": "Q9ecagcaVazW"
      }
    },
    {
      "cell_type": "code",
      "source": [
        "# write your answer here\n",
        "s=input(\"Enter a string: \")\n",
        "rev=\"\"\n",
        "for i in s:\n",
        "  rev=i+rev\n",
        "print(\"Reversed String: \",rev)\n"
      ],
      "metadata": {
        "id": "gycgckoAVZjR",
        "colab": {
          "base_uri": "https://localhost:8080/"
        },
        "outputId": "447023be-aec3-47fc-ca46-b4b4c7e34103"
      },
      "execution_count": 49,
      "outputs": [
        {
          "output_type": "stream",
          "name": "stdout",
          "text": [
            "Enter a string: fde\n",
            "Reversed String:  edf\n"
          ]
        }
      ]
    },
    {
      "cell_type": "markdown",
      "source": [
        "## Question 20\n",
        "Implement a Python script to generate a random password of a specified length."
      ],
      "metadata": {
        "id": "ZFG6RibifMLu"
      }
    },
    {
      "cell_type": "code",
      "source": [
        "# write your answer here\n",
        "import random\n",
        "import string\n",
        "l=int(input(\"Enter the required password length: \"))\n",
        "password=''.join(random.choice(string.ascii_letters+string.digits+string.punctuation) for _ in range(l))\n",
        "print(\"Generated password: \", password)\n"
      ],
      "metadata": {
        "id": "BFVrkEi9fNiD",
        "colab": {
          "base_uri": "https://localhost:8080/"
        },
        "outputId": "8eccc4c1-9943-45e1-da94-d64d53226e4b"
      },
      "execution_count": 54,
      "outputs": [
        {
          "output_type": "stream",
          "name": "stdout",
          "text": [
            "Enter the required password length: 8\n",
            "Generated password:  5TfbneXw\n"
          ]
        }
      ]
    },
    {
      "cell_type": "markdown",
      "source": [
        "# Try these questions"
      ],
      "metadata": {
        "id": "6SmvS7nSfbj8"
      }
    },
    {
      "cell_type": "markdown",
      "source": [
        "(21) Define a base class called 'Vehicle' with attributes make and model. Create a derived class Car that inherits from Vehicle and has an additional attribute 'num_doors'. Demonstrate an example of creating an instance of the 'Car' class and accessing its attributes."
      ],
      "metadata": {
        "id": "cboAr5pEWUf5"
      }
    },
    {
      "cell_type": "code",
      "source": [
        "# write your answer here\n",
        "class Vehicle:\n",
        "  def __init__(self, make, model):\n",
        "    self.make = make\n",
        "    self.model = model\n",
        "\n",
        "class Car(Vehicle):\n",
        "  def __init__(self, make, model, num_doors):\n",
        "    super().__init__(make, model)\n",
        "    self.num_doors = num_doors\n",
        "\n",
        "# Create an instance of the Car class\n",
        "c = Car(\"BMW\", \"Tesla\", 4)\n",
        "\n",
        "# Access the attributes\n",
        "print(\"Make:\", c.make)\n",
        "print(\"Model:\", c.model)\n",
        "print(\"Number of doors:\", c.num_doors)\n"
      ],
      "metadata": {
        "id": "phs9gciMWWAW",
        "colab": {
          "base_uri": "https://localhost:8080/"
        },
        "outputId": "28593f17-b5b7-4c12-9277-4b097599fae9"
      },
      "execution_count": 56,
      "outputs": [
        {
          "output_type": "stream",
          "name": "stdout",
          "text": [
            "Make: BMW\n",
            "Model: Tesla\n",
            "Number of doors: 4\n"
          ]
        }
      ]
    },
    {
      "cell_type": "markdown",
      "source": [
        "(22) Create a class called 'Shape' with a method calculate_area(). Implement two derived classes 'Circle' and 'Rectangle' that inherit from Shape and override the calculate_area() method. Demonstrate polymorphism by creating instances of both derived classes and calling the calculate_area() method."
      ],
      "metadata": {
        "id": "J8HHefNtePwd"
      }
    },
    {
      "cell_type": "code",
      "source": [
        "# write your answer here\n",
        "class Shape:\n",
        "  def calculate_area(self):\n",
        "    raise NotImplementedError(\"calculate_area() must be implemented by subclasses\")\n",
        "\n",
        "class Circle(Shape):\n",
        "  def __init__(self, radius):\n",
        "    self.radius = radius\n",
        "\n",
        "  def calculate_area(self):\n",
        "    return 3.14159 * self.radius * self.radius\n",
        "\n",
        "class Rectangle(Shape):\n",
        "  def __init__(self, length, width):\n",
        "    self.length = length\n",
        "    self.width = width\n",
        "\n",
        "  def calculate_area(self):\n",
        "    return self.length * self.width\n",
        "\n",
        "# Create instances of Circle and Rectangle\n",
        "circle = Circle(5)\n",
        "rectangle = Rectangle(4, 3)\n",
        "\n",
        "# Calculate and print areas\n",
        "print(\"Circle area:\", circle.calculate_area())\n",
        "print(\"Rectangle area:\", rectangle.calculate_area())"
      ],
      "metadata": {
        "id": "btnMmUZDeRhS",
        "colab": {
          "base_uri": "https://localhost:8080/"
        },
        "outputId": "c50733fc-9d43-4fb7-ea65-90c16a95cdb3"
      },
      "execution_count": 57,
      "outputs": [
        {
          "output_type": "stream",
          "name": "stdout",
          "text": [
            "Circle area: 78.53975\n",
            "Rectangle area: 12\n"
          ]
        }
      ]
    },
    {
      "cell_type": "markdown",
      "source": [
        "(23) Write a Python program that prompts the user to enter two numbers and perform a division operation. Handle exceptions for both zero division and invalid input (non-numeric input). Display appropriate error messages for each type of exception and ensure the program does not crash due to these errors."
      ],
      "metadata": {
        "id": "z0oqEAlTeMUS"
      }
    },
    {
      "cell_type": "code",
      "source": [
        "# write your answer here\n",
        "def divide_numbers(num1, num2):\n",
        "  try:\n",
        "    result = num1 / num2\n",
        "    return result\n",
        "  except ZeroDivisionError:\n",
        "    raise ValueError(\"Cannot divide by zero.\")\n",
        "  except ValueError:\n",
        "    raise ValueError(\"Invalid input. Please enter valid numbers.\")\n",
        "\n",
        "# Get user input\n",
        "try:\n",
        "  num1 = float(input(\"Enter the first number: \"))\n",
        "  num2 = float(input(\"Enter the second number: \"))\n",
        "\n",
        "  # Perform division and handle exceptions\n",
        "  try:\n",
        "    result = divide_numbers(num1, num2)\n",
        "    print(\"Result:\", result)\n",
        "  except ValueError as e:\n",
        "    print(\"Error:\", e)\n",
        "\n",
        "except ValueError as e:\n",
        "  print(\"Error:\", e)"
      ],
      "metadata": {
        "id": "yjdc1zM1eMAs",
        "colab": {
          "base_uri": "https://localhost:8080/"
        },
        "outputId": "22d36044-3e43-4ca5-a44f-0dab16d90569"
      },
      "execution_count": 58,
      "outputs": [
        {
          "output_type": "stream",
          "name": "stdout",
          "text": [
            "Enter the first number: 3\n",
            "Enter the second number: 3\n",
            "Result: 1.0\n"
          ]
        }
      ]
    },
    {
      "cell_type": "markdown",
      "source": [
        "# Mandatory Question"
      ],
      "metadata": {
        "id": "sZOhks1dXWEe"
      }
    },
    {
      "cell_type": "markdown",
      "source": [
        "**Important:**\n",
        "Reflecting on the first three lectures and the exercises you've completed, please provide feedback on your learning experience. Share your thoughts on whether the material covered was clear, the exercises were helpful, and if you feel more confident in applying Python programming concepts. Additionally, mention any specific areas where you would like more clarification or topics you would like to explore further in future lectures. Your feedback is valuable in shaping the course for an effective learning journey."
      ],
      "metadata": {
        "id": "eqmHVEwaWhbV"
      }
    },
    {
      "cell_type": "code",
      "source": [
        "'''\n",
        "It is  very helpful, very interesting looking forward. Thank you\n",
        "'''"
      ],
      "metadata": {
        "id": "akAVJn9YBTQT",
        "colab": {
          "base_uri": "https://localhost:8080/",
          "height": 36
        },
        "outputId": "ae37040a-981c-49fa-d4bd-5d1c4fdab904"
      },
      "execution_count": 59,
      "outputs": [
        {
          "output_type": "execute_result",
          "data": {
            "text/plain": [
              "'\\nIt is  very helpful, very interesting looking forward. Thank you\\n'"
            ],
            "application/vnd.google.colaboratory.intrinsic+json": {
              "type": "string"
            }
          },
          "metadata": {},
          "execution_count": 59
        }
      ]
    }
  ],
  "metadata": {
    "colab": {
      "provenance": [],
      "collapsed_sections": [
        "FBKvD6O_TY6e",
        "E9RqrlwdTfvl",
        "03jb4GZsBkBS",
        "jJDe71iLB616",
        "55W9AMdXCSpV",
        "4ulBZ6yhCi9F",
        "6SmvS7nSfbj8",
        "sZOhks1dXWEe"
      ]
    },
    "kernelspec": {
      "display_name": "Python 3 (ipykernel)",
      "language": "python",
      "name": "python3"
    },
    "language_info": {
      "codemirror_mode": {
        "name": "ipython",
        "version": 3
      },
      "file_extension": ".py",
      "mimetype": "text/x-python",
      "name": "python",
      "nbconvert_exporter": "python",
      "pygments_lexer": "ipython3",
      "version": "3.9.12"
    }
  },
  "nbformat": 4,
  "nbformat_minor": 0
}