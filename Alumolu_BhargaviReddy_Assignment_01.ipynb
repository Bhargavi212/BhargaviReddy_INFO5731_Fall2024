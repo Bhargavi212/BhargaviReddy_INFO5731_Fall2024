{
  "cells": [
    {
      "cell_type": "markdown",
      "metadata": {
        "id": "view-in-github"
      },
      "source": [
        "<a href=\"https://colab.research.google.com/github/unt-iialab/INFO5731_Spring2020/blob/master/Assignments/INFO5731_Assignment_One.ipynb\" target=\"_parent\"><img src=\"https://colab.research.google.com/assets/colab-badge.svg\" alt=\"Open In Colab\"/></a>"
      ]
    },
    {
      "cell_type": "markdown",
      "metadata": {
        "id": "Ryk8D1Q4Wsrp"
      },
      "source": [
        "# **INFO5731 Assignment One**"
      ]
    },
    {
      "cell_type": "markdown",
      "source": [
        "This assignment includes range of programming tasks and data analysis exercises, aiming to enhance your Python skills and proficiency in string manipulation, numerical computations, and data science. Follow the instructions carefully and design well-structured Python programs to address each question.\n",
        "\n",
        "Late Submission will have a penalty of 10% reduction for each day after the deadline."
      ],
      "metadata": {
        "id": "qcP6re2g5A5r"
      }
    },
    {
      "cell_type": "markdown",
      "metadata": {
        "id": "JkzR8cFAyGik"
      },
      "source": [
        "# Question 1 (10 points).\n",
        "\n",
        "The formula that describes the volume V of a hemisphere with radius r is the following:\n",
        "\n",
        "$ V=\\frac{2}{3}\\ast\\ \\pi\\ast\\ r^3 $\n",
        "\n",
        "Write a program to calculate the value of V when r is in the range of even numbers from 1-20. Output the result in the following format:\n",
        "\n",
        "\tr\tV\n",
        "\t2\t…\n",
        "\t4\t…\n",
        "\t6\t…\n",
        "\t.\n",
        "\t.\n",
        "\t.\n",
        "\t20\t…\n"
      ]
    },
    {
      "cell_type": "code",
      "execution_count": null,
      "metadata": {
        "id": "jDyTKYs-yGit",
        "colab": {
          "base_uri": "https://localhost:8080/"
        },
        "outputId": "ae3f2dbf-3d89-4eff-d0e4-157a19188e75"
      },
      "outputs": [
        {
          "output_type": "stream",
          "name": "stdout",
          "text": [
            "r    V\n",
            "2    16.76\n",
            "4    134.04\n",
            "6    452.39\n",
            "8    1072.33\n",
            "10   2094.40\n",
            "12   3619.11\n",
            "14   5747.02\n",
            "16   8578.64\n",
            "18   12214.51\n",
            "20   16755.16\n"
          ]
        }
      ],
      "source": [
        "import math\n",
        "\n",
        "def calculate_volume(r):\n",
        "    return (2 / 3)*math.pi*(r**3)\n",
        "\n",
        "print(\"r    V\")\n",
        "for r in range(2, 21, 2):\n",
        "    V = calculate_volume(r)\n",
        "    print(f\"{r:<5}{V:.2f}\")\n",
        "\n",
        "\n"
      ]
    },
    {
      "cell_type": "markdown",
      "metadata": {
        "id": "90_NR8c5XGWc"
      },
      "source": [
        "# Question 2 (20 points)\n",
        "\n",
        "(a) Write a Python program to generate a sequence of 12 random numbers falling within the range of 50 to 150.\n",
        "\n",
        "(b) Arrange the generated numbers in ascending order. Display the sorted list.\n",
        "\n",
        "(c) Extend the program to arrange the numbers in descending order as well. Present the sorted list accordingly.\n",
        "\n",
        "(d) Compute and output the average of the entire group of generated numbers.\n",
        "\n",
        "(e) Enhance the program to calculate and display the average of the first 6 numbers from both the ascending and descending sorted lists."
      ]
    },
    {
      "cell_type": "code",
      "execution_count": null,
      "metadata": {
        "id": "5QX6bJjGWXY9",
        "colab": {
          "base_uri": "https://localhost:8080/"
        },
        "outputId": "a4063bd4-42be-44f8-b92f-cb424defe751"
      },
      "outputs": [
        {
          "output_type": "stream",
          "name": "stdout",
          "text": [
            "Ascending order:  [53, 57, 69, 70, 76, 83, 98, 99, 104, 105, 124, 145]\n",
            "Descending order:  [145, 124, 105, 104, 99, 98, 83, 76, 70, 69, 57, 53]\n",
            "Average:  90.25\n",
            "Average of the first 6 numbers for ascending list: 68.0\n",
            "Average of the first 6 numbers for descending list: 112.5\n"
          ]
        }
      ],
      "source": [
        "import random\n",
        "\n",
        "# (a) Sequence of 12 random numbers in the range of 50 to 150\n",
        "numbers = [random.randint(50, 150) for _ in range(12)]\n",
        "\n",
        "# (b) Arrange the generated numbers in ascending order. Display the sorted list.\n",
        "asc_num = sorted(numbers)\n",
        "print(\"Ascending order: \", asc_num)\n",
        "\n",
        "# (c) Arrange the numbers in descending order. Present the sorted list\n",
        "des_num = sorted(numbers, reverse=True)\n",
        "print(\"Descending order: \", des_num)\n",
        "\n",
        "# (d) Compute and output the average of the entire group of generated numbers\n",
        "avg = sum(numbers) / len(numbers)\n",
        "print(\"Average: \", round(avg, 2))\n",
        "\n",
        "# (e) Calculate and display the average of the first 6 numbers from both sorted lists\n",
        "avg_asc = sum(asc_num[:6]) / 6\n",
        "avg_des= sum(des_num[:6]) / 6\n",
        "\n",
        "print(\"Average of the first 6 numbers for ascending list:\", round(avg_asc, 2))\n",
        "print(\"Average of the first 6 numbers for descending list:\", round(avg_des, 2))\n",
        "\n"
      ]
    },
    {
      "cell_type": "markdown",
      "metadata": {
        "id": "1F_PZdH9Sh49"
      },
      "source": [
        "# Question 3 (20 points).\n",
        "\n",
        "Create a Python program that encompasses various string manipulation task:\n",
        "\n",
        "(a) Prompt the user to input two sentences.\n",
        "\n",
        "(b) Transform each sentence into a list, where each element corresponds to a word in the sentence. For example, if the sentences are \"Hello, how are you doing today?\" and \"This is an example sentence for the program!\"\n",
        "\n",
        "The program should output:\n",
        "['Hello', ',', 'how', 'are', 'you', 'doing', 'today', '?', 'This', 'is', 'an', 'example', 'sentence', 'for', 'the', 'program', '!']\n",
        "\n",
        "(c) Compare the two sentences. Print out a list of words that occur in both sentences.\n",
        "\n",
        "(d) Remove any punctuation from the sentence and print the sanitized sentences. It should remove at least the following characters, but it can remove more: period(“.”), comma (“,”), semicolon (“;”), and colon (“:”).\n",
        "\n",
        "(e) Count the number of vowels in each of the sentences. Print out each vowel and the occurrences  in the each of the two sentences separately, such as:\n",
        "\n",
        "Sentence1: a:2, e:2, i:0, etc.\n",
        "Sentence2: a:1, e:2, i:2, etc.\n",
        "\n",
        "Design a well-structured Python program to execute these tasks efficiently."
      ]
    },
    {
      "cell_type": "code",
      "execution_count": null,
      "metadata": {
        "id": "Y0oOSlsOS0cq",
        "colab": {
          "base_uri": "https://localhost:8080/"
        },
        "outputId": "a4ae1cca-dfd6-4a74-bc50-1de03d08c11c"
      },
      "outputs": [
        {
          "output_type": "stream",
          "name": "stdout",
          "text": [
            "Enter sentence1: Hello, how are you doing today?\n",
            "Enter sentence2: This is an example sentence for the program!\n",
            "Sentence 1 words:  ['Hello,', 'how', 'are', 'you', 'doing', 'today?']\n",
            "Sentence 2 words: ['This', 'is', 'an', 'example', 'sentence', 'for', 'the', 'program!']\n",
            "Common words: []\n",
            "Sanitized Sentence 1: Hello how are you doing today\n",
            "Sanitized Sentence 2: This is an example sentence for the program\n",
            "Vowel count in Sentence 1:\n",
            "a: 2, e: 2, i: 1, o: 5, u: 1, \n",
            "Vowel count in Sentence 2:\n",
            "a: 3, e: 6, i: 2, o: 2, u: 0, \n"
          ]
        }
      ],
      "source": [
        "# Your code here\n",
        "import string\n",
        "from collections import Counter\n",
        "\n",
        "def remove_punctuation(text):\n",
        "    return text.translate(str.maketrans('', '', string.punctuation))\n",
        "def count_vowels(text):\n",
        "    vowels = 'aeiou'\n",
        "    text = text.lower()\n",
        "    vowel_count = Counter(char for char in text if char in vowels)\n",
        "    return {vowel: vowel_count.get(vowel, 0) for vowel in vowels}\n",
        "\n",
        "def main():\n",
        "    sentence1 = input(\"Enter sentence1: \")\n",
        "    sentence2 = input(\"Enter sentence2: \")\n",
        "    words1 = sentence1.split()\n",
        "    words2 = sentence2.split()\n",
        "    print(\"Sentence 1 words: \", words1)\n",
        "    print(\"Sentence 2 words:\", words2)\n",
        "    common_words = list(set(words1) & set(words2))\n",
        "    print(\"Common words:\", common_words)\n",
        "    sanitized_sentence1 = remove_punctuation(sentence1)\n",
        "    sanitized_sentence2 = remove_punctuation(sentence2)\n",
        "    print(\"Sanitized Sentence 1:\", sanitized_sentence1)\n",
        "    print(\"Sanitized Sentence 2:\", sanitized_sentence2)\n",
        "    vowel_count1 = count_vowels(sentence1)\n",
        "    vowel_count2 = count_vowels(sentence2)\n",
        "    print(\"Vowel count in Sentence 1:\")\n",
        "    for vowel, count in vowel_count1.items():\n",
        "        print(f\"{vowel}: {count}\", end=', ')\n",
        "    print()\n",
        "    print(\"Vowel count in Sentence 2:\")\n",
        "    for vowel, count in vowel_count2.items():\n",
        "        print(f\"{vowel}: {count}\", end=', ')\n",
        "    print()  # Newline for better readability\n",
        "\n",
        "if __name__ == \"__main__\":\n",
        "    main()\n",
        "\n",
        "\n"
      ]
    },
    {
      "cell_type": "markdown",
      "source": [
        "# Question 4 (20 Points)"
      ],
      "metadata": {
        "id": "OP4-5qxAtInv"
      }
    },
    {
      "cell_type": "markdown",
      "source": [
        "Design and implement a simple command-line calculator program. The program should handle both integers and floating-point numbers.\n",
        "\n",
        "(a) Write program that takes a mathematical expression as input and evaluates it. The program should support addition, subtraction, multiplication, and division.\n",
        "\n",
        "(b) Extend the calculator to handle parentheses in mathematical expressions. Implement the necessary logic to evaluate expressions with nested parentheses.\n",
        "\n",
        "(c) Enhance your calculator to include additional mathematical operations such as exponentiation, square root, and modulus.\n",
        "\n",
        "(d) Implement error handling in the calculator program. Handle cases such as division by zero and invalid input expressions. Provide meaningful error messages.\n",
        "\n",
        "(e) Implement a command to exit the calculator."
      ],
      "metadata": {
        "id": "uzN4_hDptK9U"
      }
    },
    {
      "cell_type": "code",
      "source": [
        "# Your code here\n",
        "import math\n",
        "\n",
        "def evaluate_expression(expression):\n",
        "    try:\n",
        "        # Use eval to safely evaluate the mathematical expression\n",
        "        result = eval(expression, {\"__builtins__\": None}, {\n",
        "            'sqrt': math.sqrt, 'pow': math.pow, 'abs': abs\n",
        "        })\n",
        "        return result\n",
        "    except ZeroDivisionError:\n",
        "        return \"Error: Ccan't divide by zero!\"\n",
        "    except SyntaxError:\n",
        "        return \"Error: Invalid expression!\"\n",
        "    except NameError:\n",
        "        return \"Error: Invalid characters in expression!\"\n",
        "    except Exception as e:\n",
        "        return f\"Error: {e}\"\n",
        "\n",
        "def calculator():\n",
        "    print(\"Hello...!!!\")\n",
        "    print(\"Enter the operation to calculate +, -, *, /, %, ** (exponentiation), sqrt()\")\n",
        "    print(\"Type exit to stop calculation\\n\")\n",
        "\n",
        "    while True:\n",
        "        expression = input(\"Enter an expression to evaluate: \").strip()\n",
        "        if expression.lower() == 'exit':\n",
        "            print(\"Exiting the calculator....bye:)\")\n",
        "            break\n",
        "        result = evaluate_expression(expression)\n",
        "        print(f\"Result: {result}\\n\")\n",
        "\n",
        "if __name__ == \"__main__\":\n",
        "    calculator()\n"
      ],
      "metadata": {
        "id": "8nQnVxjJuYtu",
        "colab": {
          "base_uri": "https://localhost:8080/"
        },
        "outputId": "f1613ec4-8168-4808-c774-5cc6bf4d4915"
      },
      "execution_count": null,
      "outputs": [
        {
          "output_type": "stream",
          "name": "stdout",
          "text": [
            "Hello...!!!\n",
            "Enter the operation to calculate +, -, *, /, %, ** (exponentiation), sqrt()\n",
            "Type exit to stop calculation\n",
            "\n",
            "Enter an expression to evaluate: 3-8\n",
            "Result: -5\n",
            "\n",
            "Enter an expression to evaluate: 3-4\n",
            "Result: -1\n",
            "\n",
            "Enter an expression to evaluate: exit\n",
            "Exiting the calculator....bye:)\n"
          ]
        }
      ]
    },
    {
      "cell_type": "markdown",
      "metadata": {
        "id": "z3tBE7E-Xn5X"
      },
      "source": [
        "# Question 5 (30 points).\n",
        "\n",
        "In the field of Data Science, data is often formatted as a comma-delimited (CSV) file, where each line in a file corresponds to a field's value. Refer to Chapter 9 (p. 106) for more information on comma-delimited files.\n",
        "\n",
        "To answer this question, you will need to download the file [Assignment1_denton_housing.csv](https://raw.githubusercontent.com/unt-iialab/info5731-spring2022/main/assignments/Assignment1_denton_housing.csv) included with this assignment. The file contains statistics about housing in the city of Denton from 2008 to 2014. Write a program to implement the following questions.\n",
        "\n",
        "(a) (5 pts) Calculate the difference in the number of Occupied Housing Units from year to year and print it. The difference must be calculated for the consecutive years such as 2008-2009, 2009-2010 etc. Finally, print the values in the ascending order.\n",
        "\n",
        "(b) (5 pts) For all the years, calculate the percentage of housing units which are vacant an occupied. Print the results in the following format:\n",
        "\n",
        "Year Vacant Housing Units Occupied Housing Units\n",
        "\n",
        "    2008  30%   70%                          \n",
        "\t2009 ----- -----\n",
        "\t2010 ----- -----\n",
        "    2011 ----- -----\n",
        "\t2012 ----- -----\n",
        "    2013 ----- -----\n",
        "\t2014 ----- -----\n",
        "  \n",
        "  \n",
        "\n",
        "(c) (10 pts) Calculate and print the valued and years in which the highest number of housing units were vacant and occupied. Print the results in the following format:  \n",
        "\n",
        "                              Year\tValue\n",
        "\tVacant Housing Units\t  -----   -----\n",
        "\tOccupied Housing Units\t-----   -----\n",
        "\n",
        "(d) (10 pts) Calculate the harmonic mean of the total housing units and print it out. You can find the information about harmonic mean here: https://ncalculators.com/statistics/harmonic-mean-calculator.htm"
      ]
    },
    {
      "cell_type": "code",
      "execution_count": null,
      "metadata": {
        "id": "lqGYuHBhcsRH",
        "colab": {
          "base_uri": "https://localhost:8080/"
        },
        "outputId": "101c61db-f516-4eb9-df8b-941cd1e044cb"
      },
      "outputs": [
        {
          "output_type": "stream",
          "name": "stdout",
          "text": [
            "   year  yearly_difference\n",
            "0  2009             -795.0\n",
            "1  2011             -303.0\n",
            "2  2012             1404.0\n",
            "3  2013             1565.0\n",
            "4  2014             2622.0\n",
            "5  2010             5091.0\n",
            "Year       Vacant Housing Units Occupied Housing Units\n",
            "2009       9.07%                90.93%              \n",
            "2010       8.14%                91.86%              \n",
            "2011       9.38%                90.62%              \n",
            "2012       6.68%                93.32%              \n",
            "2013       8.80%                91.20%              \n",
            "2014       5.73%                94.27%              \n",
            "                          Year    Value  \n",
            "Vacant Housing Units      2008    4483   \n",
            "Occupied Housing Units    2014    46295  \n",
            "The harmonic mean of the total housing units is: 44981.43\n"
          ]
        }
      ],
      "source": [
        "import pandas as pd\n",
        "df = pd.read_csv('Assignment1_denton_housing.csv')\n",
        "occupied = df[df['title_field'] == 'Occupied Housing Units']\n",
        "vacant = df[df['title_field'] == 'Vacant Housing Units']\n",
        "occupied = occupied.sort_values(by='year') # Sort by year\n",
        "occupied['yearly_difference'] = occupied['value'].diff() # Calculate differences\n",
        "occupied= occupied.dropna(subset=['yearly_difference'])\n",
        "# Sort the differences in ascending order\n",
        "sorted_differences = occupied[['year', 'yearly_difference']].sort_values(by='yearly_difference')\n",
        "# Reset the index and drop the old index column\n",
        "sorted_differences = sorted_differences.reset_index(drop=True)\n",
        "# Print the differences\n",
        "print(sorted_differences)\n",
        "\n",
        "\n",
        "#B)\n",
        "merged_df = pd.merge(occupied[['year', 'value']], vacant[['year', 'value']], on='year', suffixes=('_occupied', '_vacant'))\n",
        "merged_df['total_units'] = merged_df['value_occupied'] + merged_df['value_vacant']\n",
        "merged_df['occupied_percent'] = (merged_df['value_occupied'] / merged_df['total_units']) * 100\n",
        "merged_df['vacant_percent'] = (merged_df['value_vacant'] / merged_df['total_units']) * 100\n",
        "print(f\"{'Year':<10} {'Vacant Housing Units':<20} {'Occupied Housing Units':<20}\")\n",
        "for index, row in merged_df.iterrows():\n",
        "    vacant_percent_str = f\"{row['vacant_percent']:.2f}%\"\n",
        "    occupied_percent_str = f\"{row['occupied_percent']:.2f}%\"\n",
        "    print(f\"{int(row['year']):<10} {vacant_percent_str:<20} {occupied_percent_str:<20}\")\n",
        "\n",
        "\n",
        "#C)\n",
        "max_occupied = occupied.loc[occupied['value'].idxmax()]\n",
        "max_vacant = vacant.loc[vacant['value'].idxmax()]\n",
        "print(f\"{'':<25} {'Year':<7} {'Value':<7}\")\n",
        "print(f\"{'Vacant Housing Units':<25} {int(max_vacant['year']):<7} {int(max_vacant['value']):<7}\")\n",
        "print(f\"{'Occupied Housing Units':<25} {int(max_occupied['year']):<7} {int(max_occupied['value']):<7}\")\n",
        "\n",
        "#D)\n",
        "from scipy.stats import hmean\n",
        "# Calculate the harmonic mean of total housing units\n",
        "harmonic_mean = hmean(merged_df['total_units'])\n",
        "print(f\"The harmonic mean of the total housing units is: {harmonic_mean:.2f}\")\n",
        "\n",
        "\n"
      ]
    },
    {
      "cell_type": "code",
      "source": [
        "from google.colab import drive\n",
        "drive.mount('/content/drive')"
      ],
      "metadata": {
        "id": "ukco1IPBgm7J"
      },
      "execution_count": null,
      "outputs": []
    },
    {
      "cell_type": "markdown",
      "source": [
        "# Mandatory Question\n",
        "\n",
        "Provide your thoughts on the assignment. What did you find challenging, and what aspects did you enjoy? Your opinion on the provided time to complete the assignment. Share any suggestions for improvement. Your feedback will be valuable for enhancing the learning experience."
      ],
      "metadata": {
        "id": "q8BFCvWp32cf"
      }
    },
    {
      "cell_type": "code",
      "source": [
        "\n",
        "# Write your response below\n",
        "\n",
        "#I am enjoying doing the assignment and I find all the codes challenging and looking forward for futher assignments."
      ],
      "metadata": {
        "id": "_e557s2w4BpK"
      },
      "execution_count": null,
      "outputs": []
    }
  ],
  "metadata": {
    "colab": {
      "provenance": []
    },
    "kernelspec": {
      "display_name": "Python 3 (ipykernel)",
      "language": "python",
      "name": "python3"
    },
    "language_info": {
      "codemirror_mode": {
        "name": "ipython",
        "version": 3
      },
      "file_extension": ".py",
      "mimetype": "text/x-python",
      "name": "python",
      "nbconvert_exporter": "python",
      "pygments_lexer": "ipython3",
      "version": "3.9.12"
    }
  },
  "nbformat": 4,
  "nbformat_minor": 0
}