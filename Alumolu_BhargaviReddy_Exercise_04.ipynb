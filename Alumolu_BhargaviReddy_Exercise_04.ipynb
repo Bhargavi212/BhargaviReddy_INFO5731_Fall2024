{
  "cells": [
    {
      "cell_type": "markdown",
      "metadata": {
        "id": "VdRwkJBn70nX"
      },
      "source": [
        "# **INFO5731 In-class Exercise 4**\n",
        "\n",
        "**This exercise will provide a valuable learning experience in working with text data and extracting features using various topic modeling algorithms. Key concepts such as Latent Dirichlet Allocation (LDA), Latent Semantic Analysis (LSA), lda2vec, and BERTopic.**"
      ]
    },
    {
      "cell_type": "markdown",
      "source": [
        "***Please use the text corpus you collected in your last in-class-exercise for this exercise. Perform the following tasks***.\n",
        "\n",
        "**Expectations**:\n",
        "*   Students are expected to complete the exercise during lecture period to meet the active participation criteria of the course.\n",
        "*   Use the provided .*ipynb* document to write your code & respond to the questions. Avoid generating a new file.\n",
        "*   Write complete answers and run all the cells before submission.\n",
        "*   Make sure the submission is \"clean\"; *i.e.*, no unnecessary code cells.\n",
        "*   Once finished, allow shared rights from top right corner (*see Canvas for details*).\n",
        "\n",
        "**Total points**: 40\n",
        "\n",
        "**Deadline**: This in-class exercise is due at the end of the day tomorrow, at 11:59 PM.\n",
        "\n",
        "**Late submissions will have a penalty of 10% of the marks for each day of late submission, and no requests will be answered. Manage your time accordingly.**\n"
      ],
      "metadata": {
        "id": "TU-pLW33lpcS"
      }
    },
    {
      "cell_type": "markdown",
      "metadata": {
        "id": "ARqm7u6B70ne"
      },
      "source": [
        "## Question 1 (10 Points)\n",
        "\n",
        "**Generate K topics by using LDA, the number of topics K should be decided by the coherence score, then summarize what are the topics.**\n",
        "\n",
        "You may refer the code here: https://www.machinelearningplus.com/nlp/topic-modeling-gensim-python/"
      ]
    },
    {
      "cell_type": "code",
      "source": [
        "# Write your code here\n",
        "# Import necessary libraries\n",
        "import pandas as pd\n",
        "import numpy as np\n",
        "import spacy\n",
        "import gensim\n",
        "from gensim import corpora\n",
        "from gensim.models import CoherenceModel\n",
        "import matplotlib.pyplot as plt\n",
        "from nltk.corpus import stopwords\n",
        "from nltk.tokenize import word_tokenize\n",
        "\n",
        "# Load spaCy model for lemmatization\n",
        "nlp = spacy.load(\"en_core_web_sm\")\n",
        "\n",
        "# Example text data\n",
        "# Replace this with your actual data\n",
        "data = [\n",
        "    \"LDA is a topic modeling technique in natural language processing.\",\n",
        "    \"Topic modeling helps in finding the hidden structure in text.\",\n",
        "    \"Coherence score is useful in determining the optimal number of topics.\",\n",
        "    \"LDA uses bag of words representation and probabilistic modeling.\"\n",
        "]\n",
        "\n",
        "# Preprocessing function\n",
        "def preprocess_text(texts):\n",
        "    # Tokenize and lemmatize\n",
        "    processed_texts = []\n",
        "    for doc in texts:\n",
        "        doc = nlp(doc.lower())\n",
        "        tokens = [token.lemma_ for token in doc if token.is_alpha and not token.is_stop]\n",
        "        processed_texts.append(tokens)\n",
        "    return processed_texts\n",
        "\n",
        "# Preprocess the data\n",
        "processed_data = preprocess_text(data)\n",
        "\n",
        "# Create dictionary and corpus\n",
        "dictionary = corpora.Dictionary(processed_data)\n",
        "corpus = [dictionary.doc2bow(text) for text in processed_data]\n",
        "\n",
        "# Function to calculate coherence score for different K values\n",
        "def compute_coherence_values(dictionary, corpus, texts, limit, start=2, step=1):\n",
        "    coherence_values = []\n",
        "    model_list = []\n",
        "    for num_topics in range(start, limit, step):\n",
        "        model = gensim.models.LdaModel(corpus=corpus,\n",
        "                                       id2word=dictionary,\n",
        "                                       num_topics=num_topics,\n",
        "                                       random_state=42,\n",
        "                                       update_every=1,\n",
        "                                       chunksize=100,\n",
        "                                       passes=10,\n",
        "                                       alpha='auto')\n",
        "        model_list.append(model)\n",
        "        coherencemodel = CoherenceModel(model=model, texts=texts, dictionary=dictionary, coherence='c_v')\n",
        "        coherence_values.append(coherencemodel.get_coherence())\n",
        "    return model_list, coherence_values\n",
        "\n",
        "# Determine the optimal number of topics\n",
        "limit = 15\n",
        "start = 2\n",
        "step = 1\n",
        "model_list, coherence_values = compute_coherence_values(dictionary=dictionary, corpus=corpus, texts=processed_data, start=start, limit=limit, step=step)\n",
        "\n",
        "# Plot coherence score vs. number of topics\n",
        "x = range(start, limit, step)\n",
        "plt.plot(x, coherence_values,color='red')\n",
        "plt.xlabel(\"Number of Topics\")\n",
        "plt.ylabel(\"Coherence Score\")\n",
        "plt.title(\"Optimal Number of Topics\")\n",
        "plt.show()\n",
        "\n",
        "# Select the model with the highest coherence score\n",
        "optimal_index = coherence_values.index(max(coherence_values))\n",
        "optimal_model = model_list[optimal_index]\n",
        "optimal_k = x[optimal_index]\n",
        "\n",
        "print(f\"The optimal number of topics is: {optimal_k}\")\n",
        "\n",
        "# Print topics and top keywords\n",
        "topics = optimal_model.show_topics(num_topics=optimal_k, num_words=5, formatted=False)\n",
        "print(\"\\nTopics and top keywords:\")\n",
        "for idx, topic in topics:\n",
        "    keywords = [word for word, _ in topic]\n",
        "    print(f\"Topic {idx+1}: {', '.join(keywords)}\")\n",
        "# Summarize the topics with descriptive labels\n",
        "print(\"\\nSummarized Topics and Keywords:\")\n",
        "for idx, topic in enumerate(topics):\n",
        "    keywords = [word for word, _ in topic[1]]\n",
        "    topic_summary = f\"Topic {idx+1}: {' '.join(keywords[:3])}...\"  # Create a simple label from the first few keywords\n",
        "    print(f\"{topic_summary}\\n   Keywords: {', '.join(keywords)}\")\n"
      ],
      "metadata": {
        "colab": {
          "base_uri": "https://localhost:8080/",
          "height": 1000
        },
        "id": "TMbiyY4F_jod",
        "outputId": "2eaba6c5-d815-468e-9524-fba82d7c661b"
      },
      "execution_count": 1,
      "outputs": [
        {
          "output_type": "display_data",
          "data": {
            "text/plain": [
              "<Figure size 640x480 with 1 Axes>"
            ],
            "image/png": "[encoded data removed]"
          },
          "metadata": {}
        },
        {
          "output_type": "stream",
          "name": "stdout",
          "text": [
            "The optimal number of topics is: 10\n",
            "\n",
            "Topics and top keywords:\n",
            "Topic 1: processing, topic, modeling, technique, lda\n",
            "Topic 2: topic, modeling, lda, useful, bag\n",
            "Topic 3: topic, modeling, lda, useful, bag\n",
            "Topic 4: modeling, topic, lda, natural, language\n",
            "Topic 5: modeling, topic, lda, use, optimal\n",
            "Topic 6: number, useful, topic, optimal, score\n",
            "Topic 7: modeling, topic, lda, optimal, score\n",
            "Topic 8: topic, lda, modeling, text, use\n",
            "Topic 9: modeling, find, help, hidden, topic\n",
            "Topic 10: representation, modeling, probabilistic, lda, word\n",
            "\n",
            "Summarized Topics and Keywords:\n",
            "Topic 1: processing topic modeling...\n",
            "   Keywords: processing, topic, modeling, technique, lda\n",
            "Topic 2: topic modeling lda...\n",
            "   Keywords: topic, modeling, lda, useful, bag\n",
            "Topic 3: topic modeling lda...\n",
            "   Keywords: topic, modeling, lda, useful, bag\n",
            "Topic 4: modeling topic lda...\n",
            "   Keywords: modeling, topic, lda, natural, language\n",
            "Topic 5: modeling topic lda...\n",
            "   Keywords: modeling, topic, lda, use, optimal\n",
            "Topic 6: number useful topic...\n",
            "   Keywords: number, useful, topic, optimal, score\n",
            "Topic 7: modeling topic lda...\n",
            "   Keywords: modeling, topic, lda, optimal, score\n",
            "Topic 8: topic lda modeling...\n",
            "   Keywords: topic, lda, modeling, text, use\n",
            "Topic 9: modeling find help...\n",
            "   Keywords: modeling, find, help, hidden, topic\n",
            "Topic 10: representation modeling probabilistic...\n",
            "   Keywords: representation, modeling, probabilistic, lda, word\n"
          ]
        }
      ]
    },
    {
      "cell_type": "markdown",
      "metadata": {
        "id": "dEUjBE6C70nf"
      },
      "source": [
        "## Question 2 (10 Points)\n",
        "\n",
        "**Generate K topics by using LSA, the number of topics K should be decided by the coherence score, then summarize what are the topics.**\n",
        "\n",
        "You may refer the code here: https://www.datacamp.com/community/tutorials/discovering-hidden-topics-python"
      ]
    },
    {
      "cell_type": "code",
      "source": [
        "# Import necessary libraries\n",
        "import pandas as pd\n",
        "import numpy as np\n",
        "from gensim import corpora\n",
        "from sklearn.decomposition import TruncatedSVD\n",
        "from sklearn.feature_extraction.text import TfidfVectorizer\n",
        "import spacy\n",
        "import matplotlib.pyplot as plt\n",
        "\n",
        "# Load spaCy model for lemmatization\n",
        "nlp = spacy.load(\"en_core_web_sm\")\n",
        "\n",
        "# Example text data\n",
        "data = [\n",
        "    \"LDA is a topic modeling technique in natural language processing.\",\n",
        "    \"Topic modeling helps in finding the hidden structure in text.\",\n",
        "    \"Coherence score is useful in determining the optimal number of topics.\",\n",
        "    \"LDA uses bag of words representation and probabilistic modeling.\"\n",
        "]\n",
        "\n",
        "# Preprocessing function\n",
        "def preprocess_text(texts):\n",
        "    processed_texts = []\n",
        "    for doc in texts:\n",
        "        doc = nlp(doc.lower())\n",
        "        tokens = [token.lemma_ for token in doc if token.is_alpha and not token.is_stop]\n",
        "        processed_texts.append(\" \".join(tokens))\n",
        "    return processed_texts\n",
        "\n",
        "# Preprocess the data\n",
        "processed_data = preprocess_text(data)\n",
        "\n",
        "# Create TF-IDF matrix for LSA\n",
        "vectorizer = TfidfVectorizer()\n",
        "tfidf_matrix = vectorizer.fit_transform(processed_data)\n",
        "\n",
        "# Function to get topic coherence-like measure for different K values\n",
        "def compute_lsa_topics(tfidf_matrix, vectorizer, limit, start=2, step=1):\n",
        "    topic_quality_scores = []\n",
        "    model_list = []\n",
        "\n",
        "    for num_topics in range(start, limit, step):\n",
        "        # Apply LSA with TruncatedSVD\n",
        "        svd_model = TruncatedSVD(n_components=num_topics, random_state=42)\n",
        "        lsa_topics = svd_model.fit_transform(tfidf_matrix)\n",
        "        model_list.append(svd_model)\n",
        "\n",
        "        # Get top words for each topic\n",
        "        topics = []\n",
        "        for i, topic in enumerate(svd_model.components_):\n",
        "            top_words = [vectorizer.get_feature_names_out()[index] for index in topic.argsort()[-5:][::-1]]\n",
        "            topics.append(top_words)\n",
        "\n",
        "        # Calculate coherence-like measure\n",
        "        # Here, we'll use the average similarity among the top words in each topic as a simple coherence approximation\n",
        "        topic_score = np.mean([\n",
        "            np.mean([tfidf_matrix[:, vectorizer.vocabulary_[word]].todense() for word in topic]).mean()\n",
        "            for topic in topics if len(topic) > 1\n",
        "        ])\n",
        "        topic_quality_scores.append(topic_score)\n",
        "\n",
        "    return model_list, topic_quality_scores\n",
        "\n",
        "# Determine the optimal number of topics\n",
        "limit = 10\n",
        "start = 2\n",
        "step = 1\n",
        "model_list, topic_quality_scores = compute_lsa_topics(tfidf_matrix, vectorizer, start=start, limit=limit, step=step)\n",
        "\n",
        "# Plot coherence-like score vs. number of topics\n",
        "x = range(start, limit, step)\n",
        "plt.plot(x, topic_quality_scores, color='blue')\n",
        "plt.xlabel(\"Number of Topics\")\n",
        "plt.ylabel(\"Coherence-Like Score\")\n",
        "plt.title(\"Optimal Number of Topics for LSA\")\n",
        "plt.show()\n",
        "\n",
        "# Select the model with the highest coherence-like score\n",
        "optimal_index = topic_quality_scores.index(max(topic_quality_scores))\n",
        "optimal_model = model_list[optimal_index]\n",
        "optimal_k = x[optimal_index]\n",
        "\n",
        "print(f\"The optimal number of topics is: {optimal_k}\")\n",
        "\n",
        "# Print topics and top keywords\n",
        "print(\"\\nTopics and top keywords:\")\n",
        "for idx, topic in enumerate(optimal_model.components_):\n",
        "    top_keywords = [vectorizer.get_feature_names_out()[i] for i in topic.argsort()[-5:][::-1]]\n",
        "    print(f\"Topic {idx+1}: {', '.join(top_keywords)}\")\n"
      ],
      "metadata": {
        "colab": {
          "base_uri": "https://localhost:8080/",
          "height": 557
        },
        "id": "yaiMi20gbWBP",
        "outputId": "aa09cb36-e428-450d-87ef-237a34892405"
      },
      "execution_count": 2,
      "outputs": [
        {
          "output_type": "display_data",
          "data": {
            "text/plain": [
              "<Figure size 640x480 with 1 Axes>"
            ],
            "image/png": "[encoded data removed]"
          },
          "metadata": {}
        },
        {
          "output_type": "stream",
          "name": "stdout",
          "text": [
            "The optimal number of topics is: 2\n",
            "\n",
            "Topics and top keywords:\n",
            "Topic 1: modeling, lda, topic, processing, language\n",
            "Topic 2: optimal, coherence, number, useful, score\n"
          ]
        }
      ]
    },
    {
      "cell_type": "markdown",
      "metadata": {
        "id": "7oSK4soH70nf"
      },
      "source": [
        "## Question 3 (10 points):\n",
        "**Generate K topics by using lda2vec, the number of topics K should be decided by the coherence score, then summarize what are the topics.**\n",
        "\n",
        "You may refer the code here: https://nbviewer.org/github/cemoody/lda2vec/blob/master/examples/twenty_newsgroups/lda2vec/lda2vec.ipynb"
      ]
    },
    {
      "cell_type": "code",
      "execution_count": 4,
      "metadata": {
        "id": "2CRuXfV570ng",
        "colab": {
          "base_uri": "https://localhost:8080/"
        },
        "outputId": "728889eb-87d0-4578-b84c-e6b1be30c978"
      },
      "outputs": [
        {
          "output_type": "stream",
          "name": "stdout",
          "text": [
            "\u001b[31mERROR: Could not find a version that satisfies the requirement lda2vec-pytorch (from versions: none)\u001b[0m\u001b[31m\n",
            "\u001b[0m\u001b[31mERROR: No matching distribution found for lda2vec-pytorch\u001b[0m\u001b[31m\n",
            "\u001b[0m"
          ]
        }
      ],
      "source": [
        "!pip install lda2vec-pytorch"
      ]
    },
    {
      "cell_type": "code",
      "source": [
        "# Import necessary libraries\n",
        "import pandas as pd\n",
        "import numpy as np\n",
        "import spacy\n",
        "from gensim import corpora, models\n",
        "from gensim.models import Word2Vec, CoherenceModel\n",
        "import matplotlib.pyplot as plt\n",
        "from sklearn.feature_extraction.text import CountVectorizer\n",
        "\n",
        "# Load spaCy model for lemmatization\n",
        "nlp = spacy.load(\"en_core_web_sm\")\n",
        "\n",
        "# Example text data\n",
        "# Replace this with your actual data\n",
        "data = [\n",
        "    \"LDA is a topic modeling technique in natural language processing.\",\n",
        "    \"Topic modeling helps in finding the hidden structure in text.\",\n",
        "    \"Coherence score is useful in determining the optimal number of topics.\",\n",
        "    \"LDA uses bag of words representation and probabilistic modeling.\"\n",
        "]\n",
        "\n",
        "# Preprocessing function\n",
        "def preprocess_text(texts):\n",
        "    processed_texts = []\n",
        "    for doc in texts:\n",
        "        doc = nlp(doc.lower())\n",
        "        tokens = [token.lemma_ for token in doc if token.is_alpha and not token.is_stop]\n",
        "        processed_texts.append(\" \".join(tokens))\n",
        "    return processed_texts\n",
        "\n",
        "# Preprocess the data\n",
        "processed_data = preprocess_text(data)\n",
        "\n",
        "# Create a dictionary and corpus for LDA\n",
        "dictionary = corpora.Dictionary([text.split() for text in processed_data])\n",
        "corpus = [dictionary.doc2bow(text.split()) for text in processed_data]\n",
        "\n",
        "# Function to compute coherence scores for different numbers of topics\n",
        "def compute_coherence_values(dictionary, corpus, texts, start=2, limit=15, step=1):\n",
        "    coherence_values = []\n",
        "    model_list = []\n",
        "    for num_topics in range(start, limit, step):\n",
        "        model = models.LdaModel(corpus=corpus, id2word=dictionary, num_topics=num_topics, random_state=42, passes=10)\n",
        "        model_list.append(model)\n",
        "        coherence_model = CoherenceModel(model=model, texts=[text.split() for text in texts], dictionary=dictionary, coherence='c_v')\n",
        "        coherence_values.append(coherence_model.get_coherence())\n",
        "    return model_list, coherence_values\n",
        "\n",
        "# Determine the optimal number of topics\n",
        "start, limit, step = 2, 15, 1\n",
        "model_list, coherence_values = compute_coherence_values(dictionary, corpus, processed_data, start=start, limit=limit, step=step)\n",
        "\n",
        "# Plot coherence score vs. number of topics\n",
        "x = range(start, limit, step)\n",
        "plt.plot(x, coherence_values,color='red')\n",
        "plt.xlabel(\"Number of Topics\")\n",
        "plt.ylabel(\"Coherence Score\")\n",
        "plt.title(\"Optimal Number of Topics (Hybrid Approach)\")\n",
        "plt.show()\n",
        "\n",
        "# Select the model with the highest coherence score\n",
        "optimal_index = coherence_values.index(max(coherence_values))\n",
        "optimal_model = model_list[optimal_index]\n",
        "optimal_k = x[optimal_index]\n",
        "\n",
        "print(f\"The optimal number of topics is: {optimal_k}\")\n",
        "\n",
        "# Train Word2Vec model on processed data\n",
        "sentences = [text.split() for text in processed_data]\n",
        "w2v_model = Word2Vec(sentences=sentences, vector_size=100, window=5, min_count=1, workers=4, sg=1)\n",
        "\n",
        "# Enhance LDA topics with word embeddings\n",
        "print(\"\\nTopics and top keywords with semantic enhancement:\")\n",
        "for idx, topic in enumerate(optimal_model.show_topics(formatted=False, num_words=5)):\n",
        "    keywords = [word for word, prob in topic[1]]\n",
        "    # Enhance with semantically similar words using Word2Vec\n",
        "    enhanced_keywords = []\n",
        "    for word in keywords:\n",
        "        if word in w2v_model.wv:\n",
        "            similar_words = [w[0] for w in w2v_model.wv.most_similar(word, topn=2)]\n",
        "            enhanced_keywords.extend(similar_words)\n",
        "    print(f\"Topic {idx+1}: {', '.join(keywords + enhanced_keywords)}\")"
      ],
      "metadata": {
        "colab": {
          "base_uri": "https://localhost:8080/",
          "height": 693
        },
        "id": "0Rs6pwQTAjwR",
        "outputId": "acd03456-c65a-4fc5-d154-a4f1186e078f"
      },
      "execution_count": 6,
      "outputs": [
        {
          "output_type": "display_data",
          "data": {
            "text/plain": [
              "<Figure size 640x480 with 1 Axes>"
            ],
            "image/png": "[encoded data removed]"
          },
          "metadata": {}
        },
        {
          "output_type": "stream",
          "name": "stdout",
          "text": [
            "The optimal number of topics is: 13\n",
            "\n",
            "Topics and top keywords with semantic enhancement:\n",
            "Topic 1: modeling, topic, optimal, probabilistic, score, text, score, determine, find, score, number, lda, natural, optimal, structure\n",
            "Topic 2: modeling, topic, lda, score, optimal, text, score, determine, find, help, probabilistic, optimal, structure, score, number\n",
            "Topic 3: modeling, topic, optimal, probabilistic, score, text, score, determine, find, score, number, lda, natural, optimal, structure\n",
            "Topic 4: lda, word, bag, probabilistic, representation, help, probabilistic, representation, technique, lda, probabilistic, lda, natural, technique, word\n",
            "Topic 5: modeling, topic, structure, text, hidden, text, score, determine, find, score, natural, useful, modeling, representation, probabilistic\n",
            "Topic 6: modeling, topic, lda, score, optimal, text, score, determine, find, help, probabilistic, optimal, structure, score, number\n",
            "Topic 7: modeling, topic, lda, score, optimal, text, score, determine, find, help, probabilistic, optimal, structure, score, number\n",
            "Topic 8: modeling, topic, optimal, probabilistic, score, text, score, determine, find, score, number, lda, natural, optimal, structure\n",
            "Topic 9: modeling, topic, lda, score, optimal, text, score, determine, find, help, probabilistic, optimal, structure, score, number\n",
            "Topic 10: modeling, topic, lda, score, optimal, text, score, determine, find, help, probabilistic, optimal, structure, score, number\n"
          ]
        }
      ]
    },
    {
      "cell_type": "markdown",
      "metadata": {
        "id": "7nZGAOwl70ng"
      },
      "source": [
        "## Question 4 (10 points):\n",
        "**Generate K topics by using BERTopic, the number of topics K should be decided by the coherence score, then summarize what are the topics.**\n",
        "\n",
        "You may refer the code here: https://colab.research.google.com/drive/1FieRA9fLdkQEGDIMYl0I3MCjSUKVF8C-?usp=sharing"
      ]
    },
    {
      "cell_type": "code",
      "execution_count": null,
      "metadata": {
        "id": "b4HoWK-i70ng",
        "colab": {
          "base_uri": "https://localhost:8080/"
        },
        "outputId": "96023bba-662c-426f-a55f-19e95f871107"
      },
      "outputs": [
        {
          "output_type": "stream",
          "name": "stdout",
          "text": [
            "Collecting bertopic\n",
            "  Downloading bertopic-0.16.4-py3-none-any.whl.metadata (23 kB)\n",
            "Collecting hdbscan>=0.8.29 (from bertopic)\n",
            "  Downloading hdbscan-0.8.39-cp310-cp310-manylinux_2_17_x86_64.manylinux2014_x86_64.whl.metadata (15 kB)\n",
            "Requirement already satisfied: numpy>=1.20.0 in /usr/local/lib/python3.10/dist-packages (from bertopic) (1.26.4)\n",
            "Requirement already satisfied: pandas>=1.1.5 in /usr/local/lib/python3.10/dist-packages (from bertopic) (2.2.2)\n",
            "Requirement already satisfied: plotly>=4.7.0 in /usr/local/lib/python3.10/dist-packages (from bertopic) (5.24.1)\n",
            "Requirement already satisfied: scikit-learn>=0.22.2.post1 in /usr/local/lib/python3.10/dist-packages (from bertopic) (1.5.2)\n",
            "Requirement already satisfied: sentence-transformers>=0.4.1 in /usr/local/lib/python3.10/dist-packages (from bertopic) (3.2.1)\n",
            "Requirement already satisfied: tqdm>=4.41.1 in /usr/local/lib/python3.10/dist-packages (from bertopic) (4.66.6)\n",
            "Collecting umap-learn>=0.5.0 (from bertopic)\n",
            "  Downloading umap_learn-0.5.7-py3-none-any.whl.metadata (21 kB)\n",
            "Requirement already satisfied: scipy>=1.0 in /usr/local/lib/python3.10/dist-packages (from hdbscan>=0.8.29->bertopic) (1.13.1)\n",
            "Requirement already satisfied: joblib>=1.0 in /usr/local/lib/python3.10/dist-packages (from hdbscan>=0.8.29->bertopic) (1.4.2)\n",
            "Requirement already satisfied: python-dateutil>=2.8.2 in /usr/local/lib/python3.10/dist-packages (from pandas>=1.1.5->bertopic) (2.8.2)\n",
            "Requirement already satisfied: pytz>=2020.1 in /usr/local/lib/python3.10/dist-packages (from pandas>=1.1.5->bertopic) (2024.2)\n",
            "Requirement already satisfied: tzdata>=2022.7 in /usr/local/lib/python3.10/dist-packages (from pandas>=1.1.5->bertopic) (2024.2)\n",
            "Requirement already satisfied: tenacity>=6.2.0 in /usr/local/lib/python3.10/dist-packages (from plotly>=4.7.0->bertopic) (9.0.0)\n",
            "Requirement already satisfied: packaging in /usr/local/lib/python3.10/dist-packages (from plotly>=4.7.0->bertopic) (24.1)\n",
            "Requirement already satisfied: threadpoolctl>=3.1.0 in /usr/local/lib/python3.10/dist-packages (from scikit-learn>=0.22.2.post1->bertopic) (3.5.0)\n",
            "Requirement already satisfied: transformers<5.0.0,>=4.41.0 in /usr/local/lib/python3.10/dist-packages (from sentence-transformers>=0.4.1->bertopic) (4.44.2)\n",
            "Requirement already satisfied: torch>=1.11.0 in /usr/local/lib/python3.10/dist-packages (from sentence-transformers>=0.4.1->bertopic) (2.5.0+cu121)\n",
            "Requirement already satisfied: huggingface-hub>=0.20.0 in /usr/local/lib/python3.10/dist-packages (from sentence-transformers>=0.4.1->bertopic) (0.24.7)\n",
            "Requirement already satisfied: Pillow in /usr/local/lib/python3.10/dist-packages (from sentence-transformers>=0.4.1->bertopic) (10.4.0)\n",
            "Requirement already satisfied: numba>=0.51.2 in /usr/local/lib/python3.10/dist-packages (from umap-learn>=0.5.0->bertopic) (0.60.0)\n",
            "Collecting pynndescent>=0.5 (from umap-learn>=0.5.0->bertopic)\n",
            "  Downloading pynndescent-0.5.13-py3-none-any.whl.metadata (6.8 kB)\n",
            "Requirement already satisfied: filelock in /usr/local/lib/python3.10/dist-packages (from huggingface-hub>=0.20.0->sentence-transformers>=0.4.1->bertopic) (3.16.1)\n",
            "Requirement already satisfied: fsspec>=2023.5.0 in /usr/local/lib/python3.10/dist-packages (from huggingface-hub>=0.20.0->sentence-transformers>=0.4.1->bertopic) (2024.10.0)\n",
            "Requirement already satisfied: pyyaml>=5.1 in /usr/local/lib/python3.10/dist-packages (from huggingface-hub>=0.20.0->sentence-transformers>=0.4.1->bertopic) (6.0.2)\n",
            "Requirement already satisfied: requests in /usr/local/lib/python3.10/dist-packages (from huggingface-hub>=0.20.0->sentence-transformers>=0.4.1->bertopic) (2.32.3)\n",
            "Requirement already satisfied: typing-extensions>=3.7.4.3 in /usr/local/lib/python3.10/dist-packages (from huggingface-hub>=0.20.0->sentence-transformers>=0.4.1->bertopic) (4.12.2)\n",
            "Requirement already satisfied: llvmlite<0.44,>=0.43.0dev0 in /usr/local/lib/python3.10/dist-packages (from numba>=0.51.2->umap-learn>=0.5.0->bertopic) (0.43.0)\n",
            "Requirement already satisfied: six>=1.5 in /usr/local/lib/python3.10/dist-packages (from python-dateutil>=2.8.2->pandas>=1.1.5->bertopic) (1.16.0)\n",
            "Requirement already satisfied: networkx in /usr/local/lib/python3.10/dist-packages (from torch>=1.11.0->sentence-transformers>=0.4.1->bertopic) (3.4.2)\n",
            "Requirement already satisfied: jinja2 in /usr/local/lib/python3.10/dist-packages (from torch>=1.11.0->sentence-transformers>=0.4.1->bertopic) (3.1.4)\n",
            "Requirement already satisfied: sympy==1.13.1 in /usr/local/lib/python3.10/dist-packages (from torch>=1.11.0->sentence-transformers>=0.4.1->bertopic) (1.13.1)\n",
            "Requirement already satisfied: mpmath<1.4,>=1.1.0 in /usr/local/lib/python3.10/dist-packages (from sympy==1.13.1->torch>=1.11.0->sentence-transformers>=0.4.1->bertopic) (1.3.0)\n",
            "Requirement already satisfied: regex!=2019.12.17 in /usr/local/lib/python3.10/dist-packages (from transformers<5.0.0,>=4.41.0->sentence-transformers>=0.4.1->bertopic) (2024.9.11)\n",
            "Requirement already satisfied: safetensors>=0.4.1 in /usr/local/lib/python3.10/dist-packages (from transformers<5.0.0,>=4.41.0->sentence-transformers>=0.4.1->bertopic) (0.4.5)\n",
            "Requirement already satisfied: tokenizers<0.20,>=0.19 in /usr/local/lib/python3.10/dist-packages (from transformers<5.0.0,>=4.41.0->sentence-transformers>=0.4.1->bertopic) (0.19.1)\n",
            "Requirement already satisfied: MarkupSafe>=2.0 in /usr/local/lib/python3.10/dist-packages (from jinja2->torch>=1.11.0->sentence-transformers>=0.4.1->bertopic) (3.0.2)\n",
            "Requirement already satisfied: charset-normalizer<4,>=2 in /usr/local/lib/python3.10/dist-packages (from requests->huggingface-hub>=0.20.0->sentence-transformers>=0.4.1->bertopic) (3.4.0)\n",
            "Requirement already satisfied: idna<4,>=2.5 in /usr/local/lib/python3.10/dist-packages (from requests->huggingface-hub>=0.20.0->sentence-transformers>=0.4.1->bertopic) (3.10)\n",
            "Requirement already satisfied: urllib3<3,>=1.21.1 in /usr/local/lib/python3.10/dist-packages (from requests->huggingface-hub>=0.20.0->sentence-transformers>=0.4.1->bertopic) (2.2.3)\n",
            "Requirement already satisfied: certifi>=2017.4.17 in /usr/local/lib/python3.10/dist-packages (from requests->huggingface-hub>=0.20.0->sentence-transformers>=0.4.1->bertopic) (2024.8.30)\n",
            "Downloading bertopic-0.16.4-py3-none-any.whl (143 kB)\n",
            "\u001b[2K   \u001b[90m━━━━━━━━━━━━━━━━━━━━━━━━━━━━━━━━━━━━━━━━\u001b[0m \u001b[32m143.7/143.7 kB\u001b[0m \u001b[31m11.0 MB/s\u001b[0m eta \u001b[36m0:00:00\u001b[0m\n",
            "\u001b[?25hDownloading hdbscan-0.8.39-cp310-cp310-manylinux_2_17_x86_64.manylinux2014_x86_64.whl (4.2 MB)\n",
            "\u001b[2K   \u001b[90m━━━━━━━━━━━━━━━━━━━━━━━━━━━━━━━━━━━━━━━━\u001b[0m \u001b[32m4.2/4.2 MB\u001b[0m \u001b[31m73.2 MB/s\u001b[0m eta \u001b[36m0:00:00\u001b[0m\n",
            "\u001b[?25hDownloading umap_learn-0.5.7-py3-none-any.whl (88 kB)\n",
            "\u001b[2K   \u001b[90m━━━━━━━━━━━━━━━━━━━━━━━━━━━━━━━━━━━━━━━━\u001b[0m \u001b[32m88.8/88.8 kB\u001b[0m \u001b[31m6.8 MB/s\u001b[0m eta \u001b[36m0:00:00\u001b[0m\n",
            "\u001b[?25hDownloading pynndescent-0.5.13-py3-none-any.whl (56 kB)\n",
            "\u001b[2K   \u001b[90m━━━━━━━━━━━━━━━━━━━━━━━━━━━━━━━━━━━━━━━━\u001b[0m \u001b[32m56.9/56.9 kB\u001b[0m \u001b[31m4.2 MB/s\u001b[0m eta \u001b[36m0:00:00\u001b[0m\n",
            "\u001b[?25hInstalling collected packages: pynndescent, hdbscan, umap-learn, bertopic\n",
            "Successfully installed bertopic-0.16.4 hdbscan-0.8.39 pynndescent-0.5.13 umap-learn-0.5.7\n",
            "Requirement already satisfied: sentence-transformers in /usr/local/lib/python3.10/dist-packages (3.2.1)\n",
            "Requirement already satisfied: transformers<5.0.0,>=4.41.0 in /usr/local/lib/python3.10/dist-packages (from sentence-transformers) (4.44.2)\n",
            "Requirement already satisfied: tqdm in /usr/local/lib/python3.10/dist-packages (from sentence-transformers) (4.66.6)\n",
            "Requirement already satisfied: torch>=1.11.0 in /usr/local/lib/python3.10/dist-packages (from sentence-transformers) (2.5.0+cu121)\n",
            "Requirement already satisfied: scikit-learn in /usr/local/lib/python3.10/dist-packages (from sentence-transformers) (1.5.2)\n",
            "Requirement already satisfied: scipy in /usr/local/lib/python3.10/dist-packages (from sentence-transformers) (1.13.1)\n",
            "Requirement already satisfied: huggingface-hub>=0.20.0 in /usr/local/lib/python3.10/dist-packages (from sentence-transformers) (0.24.7)\n",
            "Requirement already satisfied: Pillow in /usr/local/lib/python3.10/dist-packages (from sentence-transformers) (10.4.0)\n",
            "Requirement already satisfied: filelock in /usr/local/lib/python3.10/dist-packages (from huggingface-hub>=0.20.0->sentence-transformers) (3.16.1)\n",
            "Requirement already satisfied: fsspec>=2023.5.0 in /usr/local/lib/python3.10/dist-packages (from huggingface-hub>=0.20.0->sentence-transformers) (2024.10.0)\n",
            "Requirement already satisfied: packaging>=20.9 in /usr/local/lib/python3.10/dist-packages (from huggingface-hub>=0.20.0->sentence-transformers) (24.1)\n",
            "Requirement already satisfied: pyyaml>=5.1 in /usr/local/lib/python3.10/dist-packages (from huggingface-hub>=0.20.0->sentence-transformers) (6.0.2)\n",
            "Requirement already satisfied: requests in /usr/local/lib/python3.10/dist-packages (from huggingface-hub>=0.20.0->sentence-transformers) (2.32.3)\n",
            "Requirement already satisfied: typing-extensions>=3.7.4.3 in /usr/local/lib/python3.10/dist-packages (from huggingface-hub>=0.20.0->sentence-transformers) (4.12.2)\n",
            "Requirement already satisfied: networkx in /usr/local/lib/python3.10/dist-packages (from torch>=1.11.0->sentence-transformers) (3.4.2)\n",
            "Requirement already satisfied: jinja2 in /usr/local/lib/python3.10/dist-packages (from torch>=1.11.0->sentence-transformers) (3.1.4)\n",
            "Requirement already satisfied: sympy==1.13.1 in /usr/local/lib/python3.10/dist-packages (from torch>=1.11.0->sentence-transformers) (1.13.1)\n",
            "Requirement already satisfied: mpmath<1.4,>=1.1.0 in /usr/local/lib/python3.10/dist-packages (from sympy==1.13.1->torch>=1.11.0->sentence-transformers) (1.3.0)\n",
            "Requirement already satisfied: numpy>=1.17 in /usr/local/lib/python3.10/dist-packages (from transformers<5.0.0,>=4.41.0->sentence-transformers) (1.26.4)\n",
            "Requirement already satisfied: regex!=2019.12.17 in /usr/local/lib/python3.10/dist-packages (from transformers<5.0.0,>=4.41.0->sentence-transformers) (2024.9.11)\n",
            "Requirement already satisfied: safetensors>=0.4.1 in /usr/local/lib/python3.10/dist-packages (from transformers<5.0.0,>=4.41.0->sentence-transformers) (0.4.5)\n",
            "Requirement already satisfied: tokenizers<0.20,>=0.19 in /usr/local/lib/python3.10/dist-packages (from transformers<5.0.0,>=4.41.0->sentence-transformers) (0.19.1)\n",
            "Requirement already satisfied: joblib>=1.2.0 in /usr/local/lib/python3.10/dist-packages (from scikit-learn->sentence-transformers) (1.4.2)\n",
            "Requirement already satisfied: threadpoolctl>=3.1.0 in /usr/local/lib/python3.10/dist-packages (from scikit-learn->sentence-transformers) (3.5.0)\n",
            "Requirement already satisfied: MarkupSafe>=2.0 in /usr/local/lib/python3.10/dist-packages (from jinja2->torch>=1.11.0->sentence-transformers) (3.0.2)\n",
            "Requirement already satisfied: charset-normalizer<4,>=2 in /usr/local/lib/python3.10/dist-packages (from requests->huggingface-hub>=0.20.0->sentence-transformers) (3.4.0)\n",
            "Requirement already satisfied: idna<4,>=2.5 in /usr/local/lib/python3.10/dist-packages (from requests->huggingface-hub>=0.20.0->sentence-transformers) (3.10)\n",
            "Requirement already satisfied: urllib3<3,>=1.21.1 in /usr/local/lib/python3.10/dist-packages (from requests->huggingface-hub>=0.20.0->sentence-transformers) (2.2.3)\n",
            "Requirement already satisfied: certifi>=2017.4.17 in /usr/local/lib/python3.10/dist-packages (from requests->huggingface-hub>=0.20.0->sentence-transformers) (2024.8.30)\n"
          ]
        }
      ],
      "source": [
        "# Install BERTopic and sentence-transformers\n",
        "!pip install bertopic\n",
        "!pip install sentence-transformers"
      ]
    },
    {
      "cell_type": "code",
      "source": [
        "!pip install bertopic\n",
        "!pip install umap-learn\n",
        "!pip install hdbscan\n",
        "!pip install scikit-learn\n",
        "!pip install gensim\n"
      ],
      "metadata": {
        "colab": {
          "base_uri": "https://localhost:8080/"
        },
        "id": "Q3dvpw0dcf9e",
        "outputId": "0aab9984-1400-4059-f7c1-94cc2d8b93fa"
      },
      "execution_count": 7,
      "outputs": [
        {
          "output_type": "stream",
          "name": "stdout",
          "text": [
            "Collecting bertopic\n",
            "  Downloading bertopic-0.16.4-py3-none-any.whl.metadata (23 kB)\n",
            "Collecting hdbscan>=0.8.29 (from bertopic)\n",
            "  Downloading hdbscan-0.8.39-cp310-cp310-manylinux_2_17_x86_64.manylinux2014_x86_64.whl.metadata (15 kB)\n",
            "Requirement already satisfied: numpy>=1.20.0 in /usr/local/lib/python3.10/dist-packages (from bertopic) (1.26.4)\n",
            "Requirement already satisfied: pandas>=1.1.5 in /usr/local/lib/python3.10/dist-packages (from bertopic) (2.2.2)\n",
            "Requirement already satisfied: plotly>=4.7.0 in /usr/local/lib/python3.10/dist-packages (from bertopic) (5.24.1)\n",
            "Requirement already satisfied: scikit-learn>=0.22.2.post1 in /usr/local/lib/python3.10/dist-packages (from bertopic) (1.5.2)\n",
            "Requirement already satisfied: sentence-transformers>=0.4.1 in /usr/local/lib/python3.10/dist-packages (from bertopic) (3.2.1)\n",
            "Requirement already satisfied: tqdm>=4.41.1 in /usr/local/lib/python3.10/dist-packages (from bertopic) (4.66.6)\n",
            "Collecting umap-learn>=0.5.0 (from bertopic)\n",
            "  Downloading umap_learn-0.5.7-py3-none-any.whl.metadata (21 kB)\n",
            "Requirement already satisfied: scipy>=1.0 in /usr/local/lib/python3.10/dist-packages (from hdbscan>=0.8.29->bertopic) (1.13.1)\n",
            "Requirement already satisfied: joblib>=1.0 in /usr/local/lib/python3.10/dist-packages (from hdbscan>=0.8.29->bertopic) (1.4.2)\n",
            "Requirement already satisfied: python-dateutil>=2.8.2 in /usr/local/lib/python3.10/dist-packages (from pandas>=1.1.5->bertopic) (2.8.2)\n",
            "Requirement already satisfied: pytz>=2020.1 in /usr/local/lib/python3.10/dist-packages (from pandas>=1.1.5->bertopic) (2024.2)\n",
            "Requirement already satisfied: tzdata>=2022.7 in /usr/local/lib/python3.10/dist-packages (from pandas>=1.1.5->bertopic) (2024.2)\n",
            "Requirement already satisfied: tenacity>=6.2.0 in /usr/local/lib/python3.10/dist-packages (from plotly>=4.7.0->bertopic) (9.0.0)\n",
            "Requirement already satisfied: packaging in /usr/local/lib/python3.10/dist-packages (from plotly>=4.7.0->bertopic) (24.1)\n",
            "Requirement already satisfied: threadpoolctl>=3.1.0 in /usr/local/lib/python3.10/dist-packages (from scikit-learn>=0.22.2.post1->bertopic) (3.5.0)\n",
            "Requirement already satisfied: transformers<5.0.0,>=4.41.0 in /usr/local/lib/python3.10/dist-packages (from sentence-transformers>=0.4.1->bertopic) (4.44.2)\n",
            "Requirement already satisfied: torch>=1.11.0 in /usr/local/lib/python3.10/dist-packages (from sentence-transformers>=0.4.1->bertopic) (2.5.0+cu121)\n",
            "Requirement already satisfied: huggingface-hub>=0.20.0 in /usr/local/lib/python3.10/dist-packages (from sentence-transformers>=0.4.1->bertopic) (0.24.7)\n",
            "Requirement already satisfied: Pillow in /usr/local/lib/python3.10/dist-packages (from sentence-transformers>=0.4.1->bertopic) (10.4.0)\n",
            "Requirement already satisfied: numba>=0.51.2 in /usr/local/lib/python3.10/dist-packages (from umap-learn>=0.5.0->bertopic) (0.60.0)\n",
            "Collecting pynndescent>=0.5 (from umap-learn>=0.5.0->bertopic)\n",
            "  Downloading pynndescent-0.5.13-py3-none-any.whl.metadata (6.8 kB)\n",
            "Requirement already satisfied: filelock in /usr/local/lib/python3.10/dist-packages (from huggingface-hub>=0.20.0->sentence-transformers>=0.4.1->bertopic) (3.16.1)\n",
            "Requirement already satisfied: fsspec>=2023.5.0 in /usr/local/lib/python3.10/dist-packages (from huggingface-hub>=0.20.0->sentence-transformers>=0.4.1->bertopic) (2024.10.0)\n",
            "Requirement already satisfied: pyyaml>=5.1 in /usr/local/lib/python3.10/dist-packages (from huggingface-hub>=0.20.0->sentence-transformers>=0.4.1->bertopic) (6.0.2)\n",
            "Requirement already satisfied: requests in /usr/local/lib/python3.10/dist-packages (from huggingface-hub>=0.20.0->sentence-transformers>=0.4.1->bertopic) (2.32.3)\n",
            "Requirement already satisfied: typing-extensions>=3.7.4.3 in /usr/local/lib/python3.10/dist-packages (from huggingface-hub>=0.20.0->sentence-transformers>=0.4.1->bertopic) (4.12.2)\n",
            "Requirement already satisfied: llvmlite<0.44,>=0.43.0dev0 in /usr/local/lib/python3.10/dist-packages (from numba>=0.51.2->umap-learn>=0.5.0->bertopic) (0.43.0)\n",
            "Requirement already satisfied: six>=1.5 in /usr/local/lib/python3.10/dist-packages (from python-dateutil>=2.8.2->pandas>=1.1.5->bertopic) (1.16.0)\n",
            "Requirement already satisfied: networkx in /usr/local/lib/python3.10/dist-packages (from torch>=1.11.0->sentence-transformers>=0.4.1->bertopic) (3.4.2)\n",
            "Requirement already satisfied: jinja2 in /usr/local/lib/python3.10/dist-packages (from torch>=1.11.0->sentence-transformers>=0.4.1->bertopic) (3.1.4)\n",
            "Requirement already satisfied: sympy==1.13.1 in /usr/local/lib/python3.10/dist-packages (from torch>=1.11.0->sentence-transformers>=0.4.1->bertopic) (1.13.1)\n",
            "Requirement already satisfied: mpmath<1.4,>=1.1.0 in /usr/local/lib/python3.10/dist-packages (from sympy==1.13.1->torch>=1.11.0->sentence-transformers>=0.4.1->bertopic) (1.3.0)\n",
            "Requirement already satisfied: regex!=2019.12.17 in /usr/local/lib/python3.10/dist-packages (from transformers<5.0.0,>=4.41.0->sentence-transformers>=0.4.1->bertopic) (2024.9.11)\n",
            "Requirement already satisfied: safetensors>=0.4.1 in /usr/local/lib/python3.10/dist-packages (from transformers<5.0.0,>=4.41.0->sentence-transformers>=0.4.1->bertopic) (0.4.5)\n",
            "Requirement already satisfied: tokenizers<0.20,>=0.19 in /usr/local/lib/python3.10/dist-packages (from transformers<5.0.0,>=4.41.0->sentence-transformers>=0.4.1->bertopic) (0.19.1)\n",
            "Requirement already satisfied: MarkupSafe>=2.0 in /usr/local/lib/python3.10/dist-packages (from jinja2->torch>=1.11.0->sentence-transformers>=0.4.1->bertopic) (3.0.2)\n",
            "Requirement already satisfied: charset-normalizer<4,>=2 in /usr/local/lib/python3.10/dist-packages (from requests->huggingface-hub>=0.20.0->sentence-transformers>=0.4.1->bertopic) (3.4.0)\n",
            "Requirement already satisfied: idna<4,>=2.5 in /usr/local/lib/python3.10/dist-packages (from requests->huggingface-hub>=0.20.0->sentence-transformers>=0.4.1->bertopic) (3.10)\n",
            "Requirement already satisfied: urllib3<3,>=1.21.1 in /usr/local/lib/python3.10/dist-packages (from requests->huggingface-hub>=0.20.0->sentence-transformers>=0.4.1->bertopic) (2.2.3)\n",
            "Requirement already satisfied: certifi>=2017.4.17 in /usr/local/lib/python3.10/dist-packages (from requests->huggingface-hub>=0.20.0->sentence-transformers>=0.4.1->bertopic) (2024.8.30)\n",
            "Downloading bertopic-0.16.4-py3-none-any.whl (143 kB)\n",
            "\u001b[2K   \u001b[90m━━━━━━━━━━━━━━━━━━━━━━━━━━━━━━━━━━━━━━━━\u001b[0m \u001b[32m143.7/143.7 kB\u001b[0m \u001b[31m5.7 MB/s\u001b[0m eta \u001b[36m0:00:00\u001b[0m\n",
            "\u001b[?25hDownloading hdbscan-0.8.39-cp310-cp310-manylinux_2_17_x86_64.manylinux2014_x86_64.whl (4.2 MB)\n",
            "\u001b[2K   \u001b[90m━━━━━━━━━━━━━━━━━━━━━━━━━━━━━━━━━━━━━━━━\u001b[0m \u001b[32m4.2/4.2 MB\u001b[0m \u001b[31m45.6 MB/s\u001b[0m eta \u001b[36m0:00:00\u001b[0m\n",
            "\u001b[?25hDownloading umap_learn-0.5.7-py3-none-any.whl (88 kB)\n",
            "\u001b[2K   \u001b[90m━━━━━━━━━━━━━━━━━━━━━━━━━━━━━━━━━━━━━━━━\u001b[0m \u001b[32m88.8/88.8 kB\u001b[0m \u001b[31m7.1 MB/s\u001b[0m eta \u001b[36m0:00:00\u001b[0m\n",
            "\u001b[?25hDownloading pynndescent-0.5.13-py3-none-any.whl (56 kB)\n",
            "\u001b[2K   \u001b[90m━━━━━━━━━━━━━━━━━━━━━━━━━━━━━━━━━━━━━━━━\u001b[0m \u001b[32m56.9/56.9 kB\u001b[0m \u001b[31m4.6 MB/s\u001b[0m eta \u001b[36m0:00:00\u001b[0m\n",
            "\u001b[?25hInstalling collected packages: pynndescent, hdbscan, umap-learn, bertopic\n",
            "Successfully installed bertopic-0.16.4 hdbscan-0.8.39 pynndescent-0.5.13 umap-learn-0.5.7\n",
            "Requirement already satisfied: umap-learn in /usr/local/lib/python3.10/dist-packages (0.5.7)\n",
            "Requirement already satisfied: numpy>=1.17 in /usr/local/lib/python3.10/dist-packages (from umap-learn) (1.26.4)\n",
            "Requirement already satisfied: scipy>=1.3.1 in /usr/local/lib/python3.10/dist-packages (from umap-learn) (1.13.1)\n",
            "Requirement already satisfied: scikit-learn>=0.22 in /usr/local/lib/python3.10/dist-packages (from umap-learn) (1.5.2)\n",
            "Requirement already satisfied: numba>=0.51.2 in /usr/local/lib/python3.10/dist-packages (from umap-learn) (0.60.0)\n",
            "Requirement already satisfied: pynndescent>=0.5 in /usr/local/lib/python3.10/dist-packages (from umap-learn) (0.5.13)\n",
            "Requirement already satisfied: tqdm in /usr/local/lib/python3.10/dist-packages (from umap-learn) (4.66.6)\n",
            "Requirement already satisfied: llvmlite<0.44,>=0.43.0dev0 in /usr/local/lib/python3.10/dist-packages (from numba>=0.51.2->umap-learn) (0.43.0)\n",
            "Requirement already satisfied: joblib>=0.11 in /usr/local/lib/python3.10/dist-packages (from pynndescent>=0.5->umap-learn) (1.4.2)\n",
            "Requirement already satisfied: threadpoolctl>=3.1.0 in /usr/local/lib/python3.10/dist-packages (from scikit-learn>=0.22->umap-learn) (3.5.0)\n",
            "Requirement already satisfied: hdbscan in /usr/local/lib/python3.10/dist-packages (0.8.39)\n",
            "Requirement already satisfied: numpy<3,>=1.20 in /usr/local/lib/python3.10/dist-packages (from hdbscan) (1.26.4)\n",
            "Requirement already satisfied: scipy>=1.0 in /usr/local/lib/python3.10/dist-packages (from hdbscan) (1.13.1)\n",
            "Requirement already satisfied: scikit-learn>=0.20 in /usr/local/lib/python3.10/dist-packages (from hdbscan) (1.5.2)\n",
            "Requirement already satisfied: joblib>=1.0 in /usr/local/lib/python3.10/dist-packages (from hdbscan) (1.4.2)\n",
            "Requirement already satisfied: threadpoolctl>=3.1.0 in /usr/local/lib/python3.10/dist-packages (from scikit-learn>=0.20->hdbscan) (3.5.0)\n",
            "Requirement already satisfied: scikit-learn in /usr/local/lib/python3.10/dist-packages (1.5.2)\n",
            "Requirement already satisfied: numpy>=1.19.5 in /usr/local/lib/python3.10/dist-packages (from scikit-learn) (1.26.4)\n",
            "Requirement already satisfied: scipy>=1.6.0 in /usr/local/lib/python3.10/dist-packages (from scikit-learn) (1.13.1)\n",
            "Requirement already satisfied: joblib>=1.2.0 in /usr/local/lib/python3.10/dist-packages (from scikit-learn) (1.4.2)\n",
            "Requirement already satisfied: threadpoolctl>=3.1.0 in /usr/local/lib/python3.10/dist-packages (from scikit-learn) (3.5.0)\n",
            "Requirement already satisfied: gensim in /usr/local/lib/python3.10/dist-packages (4.3.3)\n",
            "Requirement already satisfied: numpy<2.0,>=1.18.5 in /usr/local/lib/python3.10/dist-packages (from gensim) (1.26.4)\n",
            "Requirement already satisfied: scipy<1.14.0,>=1.7.0 in /usr/local/lib/python3.10/dist-packages (from gensim) (1.13.1)\n",
            "Requirement already satisfied: smart-open>=1.8.1 in /usr/local/lib/python3.10/dist-packages (from gensim) (7.0.5)\n",
            "Requirement already satisfied: wrapt in /usr/local/lib/python3.10/dist-packages (from smart-open>=1.8.1->gensim) (1.16.0)\n"
          ]
        }
      ]
    },
    {
      "cell_type": "code",
      "source": [
        "# Import necessary libraries\n",
        "from bertopic import BERTopic\n",
        "from gensim.models import CoherenceModel\n",
        "from gensim.corpora import Dictionary\n",
        "import spacy\n",
        "\n",
        "# Load spaCy model for lemmatization\n",
        "nlp = spacy.load(\"en_core_web_sm\")\n",
        "\n",
        "# Example text data\n",
        "# Replace this with your actual data\n",
        "data = [\n",
        "    \"Text data about machine learning and data science.\",\n",
        "    \"Research papers in healthcare and diagnostics.\",\n",
        "    \"Social media content analysis on platforms like Twitter.\",\n",
        "    \"Advancements in natural language processing and text analysis.\",\n",
        "    \"Technology in education for students and teachers.\",\n",
        "    \"Studies on climate change and environmental impacts.\",\n",
        "    \"Financial data analysis including stock market trends.\",\n",
        "    \"Customer sentiment and product feedback analysis.\",\n",
        "    \"Cybersecurity protocols and network security.\",\n",
        "    \"Renewable energy resources and consumption patterns.\"\n",
        "    \"LDA is a topic modeling technique in natural language processing.\",\n",
        "    \"Topic modeling helps in finding the hidden structure in text.\",\n",
        "    \"Coherence score is useful in determining the optimal number of topics.\",\n",
        "    \"LDA uses bag of words representation and probabilistic modeling.\"\n",
        "]\n",
        "# Preprocessing function\n",
        "def preprocess_text(texts):\n",
        "    processed_texts = []\n",
        "    for doc in texts:\n",
        "        doc = nlp(doc.lower())\n",
        "        tokens = [token.lemma_ for token in doc if token.is_alpha and not token.is_stop]\n",
        "        processed_texts.append(\" \".join(tokens))\n",
        "    return processed_texts\n",
        "\n",
        "# Preprocess the data\n",
        "processed_data = preprocess_text(data)\n",
        "\n",
        "# Initialize and fit the BERTopic model\n",
        "topic_model = BERTopic()\n",
        "topics, _ = topic_model.fit_transform(processed_data)\n",
        "\n",
        "# Retrieve topic representations (top words) for coherence calculation\n",
        "topics_list = topic_model.get_topics()\n",
        "topic_words = []\n",
        "for _, topic in topics_list.items():\n",
        "    words = [word[0] for word in topic[:5]]\n",
        "    topic_words.append(words)\n",
        "\n",
        "# Prepare texts in tokenized format for coherence model\n",
        "tokenized_texts = [text.split() for text in processed_data]\n",
        "\n",
        "# Create a gensim dictionary\n",
        "dictionary = Dictionary(tokenized_texts)\n",
        "\n",
        "# Calculate coherence score\n",
        "coherence_model = CoherenceModel(\n",
        "    topics=topic_words,\n",
        "    texts=tokenized_texts,\n",
        "    dictionary=dictionary,\n",
        "    coherence=\"c_v\"\n",
        ")\n",
        "coherence_score = coherence_model.get_coherence()\n",
        "\n",
        "print(f\"Coherence Score for BERTopic model: {coherence_score}\")\n",
        "\n",
        "# Display topic summaries\n",
        "print(\"\\nThe Summarized Topics of the model are:\")\n",
        "for idx, topic in enumerate(topic_words):\n",
        "    print(f\"Topic {idx+1}: {', '.join(topic)}\")"
      ],
      "metadata": {
        "colab": {
          "base_uri": "https://localhost:8080/"
        },
        "id": "gpTgqEvQBJkW",
        "outputId": "82926cb6-ff04-4aae-bdc6-4a70bc809299"
      },
      "execution_count": 10,
      "outputs": [
        {
          "output_type": "stream",
          "name": "stdout",
          "text": [
            "Coherence Score for BERTopic model: 0.2643360186238529\n",
            "\n",
            "The Summarized Topics of the model are:\n",
            "Topic 1: analysis, modeling, topic, text, datum\n"
          ]
        }
      ]
    },
    {
      "cell_type": "markdown",
      "source": [
        "## **Question 3 (Alternative) - (10 points)**\n",
        "\n",
        "If you are unable to do the topic modeling using lda2vec, do the alternate question.\n",
        "\n",
        "Provide atleast 3 visualization for the topics generated by the BERTopic or LDA model. Explain each of the visualization in detail."
      ],
      "metadata": {
        "id": "Wslk2SYHML8t"
      }
    },
    {
      "cell_type": "code",
      "source": [
        "# Write your code here\n",
        "# Then Explain the visualization\n",
        "\n",
        "# Repeat for the other 2 visualizations as well."
      ],
      "metadata": {
        "id": "eKZHcPjpNEDx"
      },
      "execution_count": null,
      "outputs": []
    },
    {
      "cell_type": "markdown",
      "source": [
        "## Extra Question (5 Points)\n",
        "\n",
        "**Compare the results generated by the four topic modeling algorithms, which one is better? You should explain the reasons in details.**\n",
        "\n",
        "**This question will compensate for any points deducted in this exercise. Maximum marks for the exercise is 40 points.**"
      ],
      "metadata": {
        "id": "d89ODUx3jjJV"
      }
    },
    {
      "cell_type": "code",
      "source": [
        "# Write your code here\n",
        "'''We have tested the 4 topic modeling algorithms, out of all the topic modeling algorithms LDA is the best performed algorithm.\n",
        "LDA is the probabilistic foundationa and is generally made with the human-interpretable topics. It also performs the dimentionality reduction.\n",
        "LDA creates more coherant topics and it makes the words to clearly understand and relate with each other.\n",
        "The results in this modeling algorithm stay stable and they are stable across multiple runs.\n",
        "The other topic modeling algorithms mix the unrelated words and they gave the confusing results.'''\n"
      ],
      "metadata": {
        "id": "OK34nZtojhmm",
        "colab": {
          "base_uri": "https://localhost:8080/",
          "height": 86
        },
        "outputId": "09751796-d5dc-48d2-b42a-286aaa554e97"
      },
      "execution_count": null,
      "outputs": [
        {
          "output_type": "execute_result",
          "data": {
            "text/plain": [
              "'We have tested the 4 topic modeling algorithms, out of all the topic modeling algorithms LDA is the best performed algorithm.\\nLDA is the probabilistic foundationa and is generally made with the human-interpretable topics. It also performs the dimentionality reduction.\\nLDA creates more coherant topics and it makes the words to clearly understand and relate with each other.\\nThe results in this modeling algorithm stay stable and they are stable across multiple runs.\\nThe other topic modeling algorithms mix the unrelated words and they gave the confusing results.'"
            ],
            "application/vnd.google.colaboratory.intrinsic+json": {
              "type": "string"
            }
          },
          "metadata": {},
          "execution_count": 16
        }
      ]
    },
    {
      "cell_type": "markdown",
      "source": [
        "# Mandatory Question"
      ],
      "metadata": {
        "id": "VEs-OoDEhTW4"
      }
    },
    {
      "cell_type": "markdown",
      "source": [
        "**Important: Reflective Feedback on this exercise**\n",
        "\n",
        "Please provide your thoughts and feedback on the exercises you completed in this assignment.\n",
        "\n",
        "Consider the following points in your response:\n",
        "\n",
        "**Learning Experience:** Describe your overall learning experience in working with text data and extracting features using various topic modeling algorithms. Did you understand these algorithms and did the implementations helped in grasping the nuances of feature extraction from text data.\n",
        "\n",
        "**Challenges Encountered:** Were there specific difficulties in completing this exercise?\n",
        "\n",
        "Relevance to Your Field of Study: How does this exercise relate to the field of NLP?\n",
        "\n",
        "**(Your submission will not be graded if this question is left unanswered)**\n",
        "\n"
      ],
      "metadata": {
        "id": "IUKC7suYhVl0"
      }
    },
    {
      "cell_type": "code",
      "source": [
        "# Your answer here (no code for this question, write down your answer as detail as possible for the above questions):\n",
        "\n",
        "'''\n",
        "This is interesting to and coding this is also very interesting. particularly their unique approaches to capture latent structures in text data. All the algorithms provided the hands-on experiences.\n",
        "I found it challenging when I am setting up lda2vec and trobule shooting the problem with that.\n",
        "This assignment is directly relavent to NLP. Topic modeling is the foundation in understanding the summarizing and clustering the text data.\n",
        "\n",
        "\n",
        "\n",
        "'''"
      ],
      "metadata": {
        "id": "CAq0DZWAhU9m",
        "colab": {
          "base_uri": "https://localhost:8080/",
          "height": 69
        },
        "outputId": "06c639f3-9d96-4ebe-dce2-f4e0189afd07"
      },
      "execution_count": null,
      "outputs": [
        {
          "output_type": "execute_result",
          "data": {
            "text/plain": [
              "'\\nThis is interesting to and coding this is also very interesting. particularly their unique approaches to capture latent structures in text data. All the algorithms provided the hands-on experiences. \\nI found it challenging when I am setting up lda2vec and trobule shooting the problem with that.\\nThis assignment is directly relavent to NLP. Topic modeling is the foundation in understanding the summarizing and clustering the text data.\\n\\n\\n\\n'"
            ],
            "application/vnd.google.colaboratory.intrinsic+json": {
              "type": "string"
            }
          },
          "metadata": {},
          "execution_count": 30
        }
      ]
    }
  ],
  "metadata": {
    "kernelspec": {
      "display_name": "Python 3 (ipykernel)",
      "language": "python",
      "name": "python3"
    },
    "language_info": {
      "codemirror_mode": {
        "name": "ipython",
        "version": 3
      },
      "file_extension": ".py",
      "mimetype": "text/x-python",
      "name": "python",
      "nbconvert_exporter": "python",
      "pygments_lexer": "ipython3",
      "version": "3.9.12"
    },
    "colab": {
      "provenance": []
    }
  },
  "nbformat": 4,
  "nbformat_minor": 0
}